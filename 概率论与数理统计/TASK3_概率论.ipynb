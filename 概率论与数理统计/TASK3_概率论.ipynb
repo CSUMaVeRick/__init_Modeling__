{
 "cells": [
  {
   "cell_type": "markdown",
   "id": "3f4773dc",
   "metadata": {
    "pycharm": {
     "name": "#%% md\n"
    }
   },
   "source": [
    "# 概率论与数理统计（基于Python）"
   ]
  },
  {
   "cell_type": "markdown",
   "id": "d37ce3b2",
   "metadata": {
    "pycharm": {
     "name": "#%% md\n"
    }
   },
   "source": [
    "&emsp;&emsp;各位同学大家好，欢迎大家来到《概率论与数理统计》的世界，这门课的实用性可能超乎大家的想象，用一句话形容《概率论与数理统计》，那就是：除了生孩子不行，其他都行。《概率论与数理统计》相对于另外两门课《高等数学》、《线性代数》来说，更倾向于解释这个世界运行的规律，研究这个世界随机的现象。"
   ]
  },
  {
   "cell_type": "markdown",
   "id": "d11bed51",
   "metadata": {
    "pycharm": {
     "name": "#%% md\n"
    }
   },
   "source": [
    "本章的主要内容如下：（**内容参考：茆诗松老师的《概率论与数理统计》**）\n",
    "\n",
    "概率论专题：\n",
    "   - 随机现象与概率\n",
    "   - 条件概率、乘法公式、全概率公式与贝叶斯公式\n",
    "   - 一维随机变量及其分布函数和密度函数\n",
    "   - 一维随机变量的数字特征：期望、方差、分位数与中位数\n",
    "   - 多维随机变量及其联合分布、边际分布、条件分布\n",
    "   - 多维随机变量的数字特征：期望向量、协方差与协方差矩阵、相关系数与相关系数矩阵、条件期望\n",
    "   - 随机变量序列的收敛状态：依概率收敛、依分布收敛\n",
    "   - 大数定律\n",
    "   - 中心极限定理\n",
    "   - 数学建模案例分析：投资组合分析\n",
    "   \n",
    "数理统计专题：\n",
    "   - 总体与样本\n",
    "   - 经验分布函数与直方图\n",
    "   - 统计量与三大抽样分布\n",
    "   - 参数估计之点估计的概念\n",
    "   - 参数估计之点估计的方法：矩估计\n",
    "   - 参数估计之点估计的方法：极大似然估计\n",
    "   - 参数估计之点估计的评价：无偏性与有效性\n",
    "   - 参数估计之区间估计\n",
    "   - 假设检验之基本思想\n",
    "   - 假设检验之正态总体参数的假设检验\n",
    "   - 假设检验之似然比检验与Bootstrap方法\n",
    "   - 数学建模案例分析：量化投资的投资组合分析"
   ]
  },
  {
   "cell_type": "markdown",
   "id": "1b176cfa",
   "metadata": {
    "pycharm": {
     "name": "#%% md\n"
    }
   },
   "source": [
    "## 概率论专题"
   ]
  },
  {
   "cell_type": "markdown",
   "id": "5cb8a41b",
   "metadata": {
    "pycharm": {
     "name": "#%% md\n"
    }
   },
   "source": [
    "&emsp;&emsp;在《概率论与数理统计》中，主要是两个部分：概率论和数理统计，这两个部分是看似相互独立但是实质是互相联系的，在后面的学习就会深有体会。现在，我们先用几个案例的引入，来讲讲为什么需要学习《概率论与数理统计》，首先是关于概率论的例子："
   ]
  },
  {
   "cell_type": "markdown",
   "id": "ffd3277f",
   "metadata": {
    "pycharm": {
     "name": "#%% md\n"
    }
   },
   "source": [
    "&emsp;&emsp;在英语的写作中，每个英文字母的使用频率是不同的，其使用频率如下：\n",
    "\n",
    "$$\n",
    "\\begin{array}{cccccc}\n",
    "\\hline \\text { 字母 } & \\text { 频率 } & \\text { 字母 } & \\text { 频率 } & \\text { 字母 } & \\text { 频率 } \\\\\n",
    "\\hline E & 0.130 & D & 0.044 & G & 0.014 \\\\\n",
    "T & 0.090 & L & 0.036 & B & 0.013 \\\\\n",
    "O & 0.081 & C & 0.029 & V & 0.010 \\\\\n",
    "A & 0.078 & F & 0.028 & K & 0.004 \\\\\n",
    "N & 0.073 & U & 0.028 & X & 0.003 \\\\\n",
    "I & 0.068 & M & 0.026 & J & 0.001 \\\\\n",
    "R & 0.067 & P & 0.022 & Q & 0.001 \\\\\n",
    "S & 0.065 & Y & 0.015 & Z & 0.001 \\\\\n",
    "H & 0.058 & W & 0.015 & & \\\\\n",
    "\\hline\n",
    "\\end{array}\n",
    "$$"
   ]
  },
  {
   "cell_type": "markdown",
   "id": "16a0c4dd",
   "metadata": {
    "pycharm": {
     "name": "#%% md\n"
    }
   },
   "source": [
    "&emsp;&emsp;研究发现，各个字母的使用频率是相当稳定的，我们可以**近似地看成概率**，这项研究对于信息学的编码和密码学的破译都有着重要的贡献。\n",
    "\n",
    "&emsp;&emsp;其次，我们再来说说数理统计的一个经典例子：女士品茶。一位女士声称自己能喝出一杯奶茶是先加的奶还是先加的茶。一位统计学家为了证明她说的是不是真的，于是拿来十杯奶茶让她分辨，假如她能答对10杯奶茶中奶和茶混合的先后顺序，那么这位女士大概率有这项能力。但是，如果她只答对了7杯、8杯又或者是9杯呢？是否还能认为这位女士具有声称的这项能力呢？\n",
    "\n",
    "&emsp;&emsp;那话不多说，我们现在开始学习吧！"
   ]
  },
  {
   "cell_type": "markdown",
   "id": "4ad5d6a0",
   "metadata": {
    "pycharm": {
     "name": "#%% md\n"
    }
   },
   "source": [
    "### 1 随机现象与概率"
   ]
  },
  {
   "cell_type": "markdown",
   "id": "e2acf343",
   "metadata": {
    "pycharm": {
     "name": "#%% md\n"
    }
   },
   "source": [
    "&emsp;&emsp;概率论是一门研究随机现象的学科，那么关于随机现象及其相关概念的定义就十分重要了。\n",
    "\n",
    "（1）随机现象：在一定条件下，并不总是出现相同结果的现象。现实生活中，我们总是能见到不少的随机现象，如：\n",
    "   - 一位顾客在超市购买的商品件数\n",
    "   - 一位顾客在超市排队等候付款的时间\n",
    "   - 一颗麦穂上长着麦粒个数\n",
    "   - 一台电视机的寿命（从开始使用到第一次维修的时间）\n",
    "   - 某城市一天内发生交通事故的次数\n",
    "   - 测量某物理量（长度、直径等）的误差\n",
    "   \n",
    "&emsp;&emsp;换句话来说，如果事件的结果是固定的，我们可能会用另一个关系来表示，那就是《高等数学》中确定性的函数关系。如果事件的结果是不固定的，我们希望得到每一种可能的结果出现的可能性大小，并以此做出决策。那如何得到每一种可能的结果出现的可能性大小呢？最简单的方式就是：做试验！"
   ]
  },
  {
   "cell_type": "markdown",
   "id": "b7d8e82f",
   "metadata": {
    "pycharm": {
     "name": "#%% md\n"
    }
   },
   "source": [
    "（2）随机试验：很多随机现象是可以大量重复的，如抛一枚硬币可以无限次重复，不同麦穗上的麦粒数可以大量观察等，这种可重复的随机现象又称为**随机试验**，简称试验。以后常把检验一件产品看作做一次试验，观察一颗麦穗上的麦粒数也看作一次试验。但是也有很多随机现象是不能重复的，明年世界经济是增长还是衰退，一场足球赛的输贏都是不能重复的随机现象。现在介绍的概率论主要研究能大量重复的随机现象，但应十分注意的是，我们也要注意研究不能重复的随机现象。因为后者在我们经济生活中占有重要地位（经济现象很多情况下是不可重复的）。"
   ]
  },
  {
   "cell_type": "markdown",
   "id": "d6ef10d3",
   "metadata": {
    "pycharm": {
     "name": "#%% md\n"
    }
   },
   "source": [
    "（3）样本点：认识一个随机现象，首要的是能罗列出它的一切可能发生的基本结果，这里“基本结果”是指随机现象最简单的结果，如抛一枚硬币就有两个基本结果：正面、反面；抛一颗骰子就有六个基本结果：1点、2点、3点、4点、5点、6点。"
   ]
  },
  {
   "cell_type": "markdown",
   "id": "a1dfa8f8",
   "metadata": {
    "pycharm": {
     "name": "#%% md\n"
    }
   },
   "source": [
    "（4）样本空间：随机现象所有基本结果（样本点）的全体，称为这个随机现象的样本空间。常用 $\\Omega=$ $\\{\\boldsymbol{\\omega}\\}$ 表示，其中元素 $\\omega$ 就是样本点。在统计学中，基本结果 $\\omega$ 将是抽样的基本单元，故基本结果又称为样本点，基本空间又称为样本空间。\n",
    "\n",
    "&emsp;&emsp;如抛一枚硬币的基本空间（样本空间）为\n",
    "$$\n",
    "\\Omega_{1} = \\left\\{\\omega_{0}, \\omega_{1}\\right\\}=\\{\\text { 正面，反面 }\\}\n",
    "$$\n",
    "其中， $\\omega_{0}$ 表示正面， $\\omega_{1}$ 表示反面。\n",
    "\n",
    "&emsp;&emsp;又如掷一颗骰子的基本空间为\n",
    "$$\n",
    "\\Omega_{2} = \\left\\{\\omega_{1}, \\omega_{2}, \\omega_{3}, \\omega_{4}, \\omega_{5}, \\omega_{6}\\right\\}=\\{1,2,3,4,5,6\\}\n",
    "$$\n",
    "\n",
    "&emsp;&emsp;下面用一些例子说明：\n",
    "- “一台电视机的寿命”的基本空间可用非负实数集表示，即\n",
    "$$\n",
    "\\Omega_{3} = \\{x: x \\geqslant 0\\}\n",
    "$$\n",
    "- “测量某物理量的误差”的基本空间常用整个实数集表示，即\n",
    "$$\n",
    "\\Omega_{4} = \\{x:-\\infty<x<\\infty\\}\n",
    "$$"
   ]
  },
  {
   "cell_type": "markdown",
   "id": "be900e2c",
   "metadata": {
    "pycharm": {
     "name": "#%% md\n"
    }
   },
   "source": [
    "（5）随机事件：随机现象的某些基本结果组成的集合称为随机事件，简称事件，常用大写字母 $A, B, C$ 等表示，如抛一颗骰子，“出现奇数点”是一个事件，它是由1点、3点、5点三个基本结果组成，若记这个事件为 $A$， 则有 $A=\\{1,3,5\\}$。\n",
    "\n",
    "&emsp;&emsp;例：抛两枚硬币的基本空间 $\\Omega$ 由下列四个基本结果组成：\n",
    "$$\n",
    "\\begin{array}{ll}\n",
    "\\omega_1 = (\\text { 正, 正 }) & \\omega_2 = (\\text { 正, 反 }) \\\\\n",
    "\\omega_3 = (\\text { 反, 正 }) & \\omega_4 = (\\text { 反, 反 })\n",
    "\\end{array}\n",
    "$$\n",
    "\n",
    "&emsp;&emsp;以下事件可用集合形式表示，也可用语言形式表示。\n",
    "$$\n",
    "\\begin{aligned}\n",
    "&A= \\text { “至少出现一个正面” }=\\left \\{ \\omega_1, \\omega_2, \\omega_3 \\right \\} \\\\\n",
    "&B= \\text { “最多出现一个正面” }=\\left \\{ \\omega_2, \\omega_3, \\omega_4 \\right \\} \\\\\n",
    "&C= \\text { “恰好出现一个正面”} =\\left \\{ \\omega_2, \\omega_3 \\right \\} \\\\\n",
    "&D= \\text { “出现两面相同” }=\\left \\{ \\omega_1, \\omega_4 \\right \\}\n",
    "\\end{aligned}\n",
    "$$"
   ]
  },
  {
   "cell_type": "markdown",
   "id": "ef8d6240",
   "metadata": {
    "pycharm": {
     "name": "#%% md\n"
    }
   },
   "source": [
    "（6）事件间的关系：\n",
    "\n",
    "- 事件的包含关系：设在同一个试验里有两个事件 $A$ 与 $B$，若事件 $A$ 中任一基本结果必在 $B$ 中，则称 $A$ 被包含在 $B$ 中，或 $B$ 包含 $A$，记为 $A \\subset B$ 或 $B \\supset A$，这时事件 $A$ 的发生必导致事件 $B$ 的发生。\n",
    "- 事件的相等关系：设在同一试验里有两个事件 $A$ 与 $B$，若 $A$ 中任一基本结果必在 $B$ 中 $(A \\subset B)$，而 $B$ 中任一基本结果也必在 $A$ 中 $(B \\subset A)$，则称事件 $A$ 与 $B$ 相等，记为 $A=B$，这时 $A$ 与 $B$ 必含有相同的基本结果。\n",
    "- 事件的互不相容性：在同一个试验里，若两个事件 $A$ 与 $B$ 没有相同的基本结果，则称事件 $A$ 与 $B$ 互不相容，或称互斥。这时事件 $A$ 与 $B$ 不可能同时发生。\n",
    "- 必然事件与不可能事件：任一个基本空间 $\\Omega$ 都有一个最大子集（基本空间本身 $\\Omega$）和一个最小子集，用空集符号 $\\phi$ 表示。最大子集就是必然事件，最小子集就是不可能事件。  "
   ]
  },
  {
   "cell_type": "markdown",
   "id": "8833d617",
   "metadata": {
    "pycharm": {
     "name": "#%% md\n"
    }
   },
   "source": [
    "（7）事件的运算：\n",
    "\n",
    "- 对立事件：设 $A$ 为一个试验里的事件，则由不在 $A$ 中的一切基本结果组成的事件称为 $A$ 的对立事件，记为 $\\bar{A}$ 。如在掷一颗骰子的试验中，事件 $A$=“出现偶数点”的对立事件 $\\bar{A}$=“出现奇数点”，因为不出现偶数点必出现奇数点。\n",
    "- 并运算：事件 $A$ 与 $B$ 的并，是由事件 $A$ 与 $B$ 中所有基本结果（相同的只计入一次)组成的一个新事件，记为 $A \\cup B$。如在掷一颗骰子的试验中，事件 $A$=“出现奇数点”=$\\{1,3,5\\}$ 与事件 $B$=“出现点数不超过3”=$\\{1,2,3\\}$ 的并为 $A \\cup B=\\{1,2,3,5\\}$。可见，事件 $A$ 与 $B$ 中重复元素只须记入并事件一次。\n",
    "- 交运算：事件 $A$ 与 $B$ 的交，是由事件 $A$ 与 $B$ 中公共的基本结果组成的一个新事件，记为 $A \\cap B$ 或 $A B$ 。如在掷一颗骰子的试验里，$A$= “出现奇数点”=$\\{1$, $3,5\\}$ 与事件 $B$=“出现点数不超过3”=$\\{1,2,3\\}$ 的交 $A B=\\{1,3\\}$。可见，若交事件 $A B$ 发生，则事件 $A$ 与 $B$ 必同时发生，反之亦然。\n",
    "- 差运算：事件 $A$ 对 $B$ 的差，是由在事件 $A$ 中而不在事件 $B$ 中的基本结果组成的一个新事件，记为 $A - B$。如在掷一颗骰子的试验里，事件 $A$= “出现奇数点”=$\\{1,3,5\\}$ 对事件 $B$=“出现点数不超过3”=$\\{1,2,3\\}$ 的差事件是 $A - B = \\{5\\}$ 。而 $B$ 对 $A$ 的差事件 $B - A = \\{2\\}$。这是两个不同的差事件。可见，差事件 $A-B$ 是表示事件 $A$ 发生而事件 $B$ 不发生的事件。"
   ]
  },
  {
   "cell_type": "markdown",
   "id": "407d3c05",
   "metadata": {
    "pycharm": {
     "name": "#%% md\n"
    }
   },
   "source": [
    "（8）事件的概率：随机事件的发生是带有偶然性的。但随机事件发生的可能性还是有大小之别的，是可以设法度量的。而在生活、生产和经济活动中，人们更关心一个随机事件发生的可能性大小。那如何去度量一个事件发生的可能性呢？其中一种简单的方式就是使用频率代替概率，但是这种方法有一个致命的弊端，我们使用一个例子去说明！众多科学家都对硬币正反面的概率是0.5进行了验证：\n",
    "\n",
    "$$\n",
    "\\begin{array}{lccc}\n",
    "\\hline \\text { 实验者 } & \\text { 拼硬币次数 } & \\text { 正面出现次数 } & \\text { 频率 } \\\\\n",
    "\\hline \\text { 蒲丰 } & 4040 & 2048 & 0.5069 \\\\\n",
    "\\text { 皮尔逊 } & 12000 & 6019 & 0.5016 \\\\\n",
    "\\text { 皮尔逊 } & 24000 & 12012 & 0.5005 \\\\\n",
    "\\hline\n",
    "\\end{array}\n",
    "$$\n",
    "\n",
    "&emsp;&emsp;那究竟硬币正反面的概率是多少呢，是0.5069，还是0.5016，亦或是0.5005呢？问题的本质就是一个试验发生的频率有无限种可能，它可能取决于试验的次数、试验的环境、试验者的心态等等，但是一个事件的概率往往只有一个，因此使用频率代替概率本身就不是一件容易的事情，那如何定义概率呢？"
   ]
  },
  {
   "cell_type": "markdown",
   "id": "d7e75134",
   "metadata": {
    "pycharm": {
     "name": "#%% md\n"
    }
   },
   "source": [
    "**概率的公理化定义**：在一个随机现象中，用来表示任一个随机事件 $A$ 发生可能性大小的实数（即比率）称为该事件的概率，记为 $P(A)$，并规定\n",
    "- 非负性公理：对任一事件 $A$，必有 $P(A) \\geqslant 0$\n",
    "- 正则性公理：必然事件的概率 $P(\\Omega)=1$\n",
    "- 可加性公理： 若 $A_1$ 与 $A_2$ 是两个互不相容事件（即 $A_1 A_2 = \\phi$），则有 $P(A_1 \\cup A_2 ) = P (A_1) + P (A_2)$   "
   ]
  },
  {
   "cell_type": "markdown",
   "id": "9a0221e7",
   "metadata": {
    "pycharm": {
     "name": "#%% md\n"
    }
   },
   "source": [
    "（9）事件的独立性：两个事件之间的独立性是指一个事件的发生不影响另一个事件的发生，$A$=“第一颗骰子出现1点”，$B$=“第二颗骰子出现偶数点”，\n",
    "经验事实告诉我们，第一颗骰子出现的点数不会影响第二颗骰子出现的点数，假如规定第二颗骰子出现偶数点可得奖，那么不管第一颗骰子出现什么点都不会影响你得奖的机会，这时就可以说：事件 $A$ 与 $B$ 独立。那么使用概率的语言是如何定义事件的独立性呢？  \n",
    "&emsp;&emsp;事件的独立性的定义：对任意两个事件 $A$ 与 $B$，若有 $P(A B) = P(A) P(B)$，则称事件 $A$ 与 $B$ 相互独立，简称 $A$ 与$B$独立。"
   ]
  },
  {
   "cell_type": "markdown",
   "id": "ca76dc4c",
   "metadata": {
    "pycharm": {
     "name": "#%% md\n"
    }
   },
   "source": [
    "【例子】模拟频率近似概率："
   ]
  },
  {
   "cell_type": "markdown",
   "id": "c64442f1",
   "metadata": {},
   "source": [
    "<div class=\"alert alert-warning\" role=\"alert\">\n",
    "注：运行如下代码，需要提前安装pandas、seaborn包，执行如下命令：pip install pandas seaborn\n",
    "</div>"
   ]
  },
  {
   "cell_type": "code",
   "execution_count": 3,
   "id": "6d0ea598",
   "metadata": {
    "pycharm": {
     "name": "#%%\n"
    }
   },
   "outputs": [],
   "source": [
    "# 引入相关工具库\n",
    "import seaborn as sns\n",
    "import warnings\n",
    "import numpy as np\n",
    "import pandas as pd\n",
    "import matplotlib.pyplot as plt\n",
    "%matplotlib inline\n",
    "\n",
    "plt.style.use(\"ggplot\")\n",
    "warnings.filterwarnings(\"ignore\")\n",
    "plt.rcParams['font.sans-serif'] = ['SimHei', 'Songti SC', 'STFangsong']\n",
    "plt.rcParams['axes.unicode_minus'] = False  # 用来正常显示负号"
   ]
  },
  {
   "cell_type": "code",
   "execution_count": 4,
   "id": "e44f8b41",
   "metadata": {
    "pycharm": {
     "name": "#%%\n"
    }
   },
   "outputs": [
    {
     "data": {
      "image/png": "[encoded data removed]",
      "text/plain": [
       "<Figure size 720x432 with 1 Axes>"
      ]
     },
     "metadata": {},
     "output_type": "display_data"
    },
    {
     "data": {
      "image/png": "[encoded data removed]",
      "text/plain": [
       "<Figure size 720x432 with 1 Axes>"
      ]
     },
     "metadata": {},
     "output_type": "display_data"
    },
    {
     "data": {
      "image/png": "[encoded data removed]",
      "text/plain": [
       "<Figure size 720x432 with 1 Axes>"
      ]
     },
     "metadata": {},
     "output_type": "display_data"
    },
    {
     "data": {
      "image/png": "[encoded data removed]",
      "text/plain": [
       "<Figure size 720x432 with 1 Axes>"
      ]
     },
     "metadata": {},
     "output_type": "display_data"
    }
   ],
   "source": [
    "# 模拟抛硬币正面的概率是否会越来越接近0.5\n",
    "import random\n",
    "\n",
    "\n",
    "def Simulate_coin(test_num):\n",
    "    random.seed(100)\n",
    "    coin_list = [1 if (random.random() >= 0.5)\n",
    "                 else 0 for i in range(test_num)]   # 模拟试验结果\n",
    "    coin_frequence = np.cumsum(coin_list) / \\\n",
    "        (np.arange(len(coin_list))+1)  # 计算正面为1的频率\n",
    "    plt.figure(figsize=(10, 6))\n",
    "    plt.plot(np.arange(len(coin_list))+1, coin_frequence, c='blue', alpha=0.7)\n",
    "    plt.axhline(0.5, linestyle='--', c='red', alpha=0.5)\n",
    "    plt.xlabel(\"test_index\")\n",
    "    plt.ylabel(\"frequence\")\n",
    "    plt.title(str(test_num)+\" times\")\n",
    "    plt.show()\n",
    "\n",
    "\n",
    "Simulate_coin(test_num=500)\n",
    "Simulate_coin(test_num=1000)\n",
    "Simulate_coin(test_num=5000)\n",
    "Simulate_coin(test_num=10000)"
   ]
  },
  {
   "cell_type": "markdown",
   "id": "5f612f5d",
   "metadata": {
    "pycharm": {
     "name": "#%% md\n"
    }
   },
   "source": [
    "### 2 条件概率、乘法公式、全概率公式与贝叶斯公式"
   ]
  },
  {
   "cell_type": "markdown",
   "id": "a73d568a",
   "metadata": {
    "pycharm": {
     "name": "#%% md\n"
    }
   },
   "source": [
    "（1）条件概率：\n",
    "\n",
    "&emsp;&emsp;条件概率要涉及两个事件 $A$ 与 $B$，在事件 $B$ 已发生的条件下，事件 $A$ 再发生的概率称为条件概率，记为 $P(A \\mid B)$， 它与前面讲的事件 $A$ 的 (无条件)概率 $P(A)$ 是两个不同的概念。无条件概率与条件概率的区别在哪呢？假如事件 $B$ 的发生不会影响事件 $A$ 发生的概率，那么就说明这两者是相互独立的，即：$P(A \\mid B) = P(A)$，两者没有区别；但是如果事件 $B$ 的发生会影响到事件 $A$ 的发生，那么$P(A \\mid B) \\neq P(A)$。\n",
    "\n",
    "&emsp;&emsp;举个例子：现在有两个小孩的家庭，其样本空间为 $\\Omega=\\{\\text{男男}, \\text{男女}, \\text{女男}, \\text{女女}\\}$，\n",
    "- 事件 $A=$ “家中至少有一个女孩” 发生的概率为$P(A) = \\dfrac{3}{4} $\n",
    "- 若已知事件 $B=$ “家中至少有一个男孩”发生，再求事件 $A$ 发生的概率为$P(A \\mid B) = \\dfrac{2}{3}$\n",
    "\n",
    "&emsp;&emsp;其实，为什么会出现这种情况呢？因为，当我们得知事件 $B$=“家中至少有一个男孩”已经发生的时候，对整个样本空间的认识就不是原来的$\\Omega=\\{\\text{男男}, \\text{男女}, \\text{女男}, \\text{女女}\\}$，而是$\\Omega^{'}=\\{\\text{男男}, \\text{男女}, \\text{女男}\\}$"
   ]
  },
  {
   "cell_type": "markdown",
   "id": "e7699b5a",
   "metadata": {
    "pycharm": {
     "name": "#%% md\n"
    }
   },
   "source": [
    "&emsp;&emsp;可以看出，（无条件）概率 $P(A)$ 指的是从样本空间 $\\Omega$ 中选出符合事件 $A$ 定义的基本点的个数比例，即 $P(A) = \\dfrac{N_A}{N_{\\Omega}}$；反观在事件 $B$ 已发生的条件下，事件 $A$ 再发生的概率 $P(A \\mid B)$，由于事件 $B$ 已经发生了，因此这个事件的样本空间由$\\Omega$ 缩减为 $B$ ，因此 $P(A \\mid B) = \\dfrac{N_{AB}}{N_B}= \\dfrac{\\dfrac{N_{AB}}{N_{\\Omega}}}{\\dfrac{N_B}{N_{\\Omega}}} = \\dfrac{P(AB)}{P(B)}$，因此我们给出条件概率的准确定义：\n",
    "\n",
    "&emsp;&emsp;设 $A$ 与 $B$ 是基本空间 $\\Omega$ 中的两个事件，且 $P(B)>0$，在事件 $B$ 已发生的条件下，事件 $A$ 的条件概率 $P(A \\mid B)$ 定义为 $P(A B)/P(B)$，即\n",
    "$$\n",
    "P(A \\mid B)=\\frac{P(A B)}{P(B)}\n",
    "$$\n",
    "其中 $P(A \\mid B)$ 也称为给定事件 $B$ 下事件 $A$ 的条件概率。\n",
    "\n",
    "<div>\n",
    "<img src=\"./images/2.png\" width=\"600\"/>\n",
    "</div>"
   ]
  },
  {
   "cell_type": "markdown",
   "id": "f4f14650",
   "metadata": {
    "pycharm": {
     "name": "#%% md\n"
    }
   },
   "source": [
    "【例子】某市的一项调查表明，该市有30%的学生视力有缺陷，7%的学生听力有缺陷, 3%的学生视力与听力都有缺陷，记\n",
    "$$\n",
    "\\begin{aligned}\n",
    "& E = \\text { “学生视力有缺陷”}, \\quad P(E) = 0.30 \\\\\n",
    "& H = \\text { “学生听力有缺陷” }, \\quad P(H) = 0.07 \\\\\n",
    "& E H = \\text { “学生视力与听力都有缺陷”}, \\quad P(E H) = 0.03\n",
    "\\end{aligned}\n",
    "$$\n",
    "&emsp;&emsp;如果已知一学生听力有缺陷，那么他视力也有缺陷的概率是多少? 类似地可算得\n",
    "$$\n",
    "P(E \\mid H) = \\frac{P(E H)}{P(H)} = \\frac{0.03}{0.07} = \\frac{3}{7}\n",
    "$$"
   ]
  },
  {
   "cell_type": "markdown",
   "id": "a4fcf8a5",
   "metadata": {
    "pycharm": {
     "name": "#%% md\n"
    }
   },
   "source": [
    "（2）乘法公式：\n",
    "\n",
    "&emsp;&emsp;乘法公式是条件概率的第一个重要应用，从条件概率的角度描述了两个事件 $A$、$B$ 同时发生的概率是怎么计算的。具体公式如下：\n",
    "- 若 $P(B)>0$，则$P(A B)=P(B) P(A \\mid B)$\n",
    "- 若 $P(A_1 A_2 \\cdots A_{n-1}) > 0$，则$P(A_1 A_2 \\cdots A_n) = P(A_1) P(A_2 \\mid A_1) P(A_3 \\mid A_1 A_2) \\cdots P(A_n \\mid A_1 A_2 \\cdots A_{n-1})$\n",
    "\n",
    "&emsp;&emsp;其实乘法公式十分好理解，如果想要计算 $A$、$B$ 同时发生的概率，那么可以先让事件 $B$ 发生，计算事件 $B$ 发生的概率 $P(B)$，再计算$B$ 发生的条件下事件 $A$ 发生的概率 $P(A|B)$。"
   ]
  },
  {
   "cell_type": "markdown",
   "id": "ad24f563",
   "metadata": {
    "pycharm": {
     "name": "#%% md\n"
    }
   },
   "source": [
    "【例子】一批零件共有100个，其中有10个不合格品。从中一个一个取出，求第三次才取得不合格品的概率是多少？\n",
    "\n",
    "**解：**\n",
    "\n",
    "&emsp;&emsp;以 $A_i$ 记事件“第 $i$ 次取出的是不合格品”，其中$i=1,2,3$，则所求概率为 $P(\\bar{A}_1 \\bar{A}_2 A_3)$, 由乘法公式得\n",
    "$$\n",
    "P (\\bar{A}_1 \\bar{A}_2 A_3 ) = P(\\bar{A}_1) P(\\bar{A}_2 \\mid \\bar{A}_1) P(A_3 \\mid \\bar{A}_1 \\bar{A}_2) = \\frac{90}{100} \\cdot \\frac{89}{99} \\cdot \\frac{10}{98} = 0.0826\n",
    "$$"
   ]
  },
  {
   "cell_type": "markdown",
   "id": "f53b923a",
   "metadata": {
    "pycharm": {
     "name": "#%% md\n"
    }
   },
   "source": [
    "（3）全概率公式：\n",
    "\n",
    "&emsp;&emsp;全概率公式是计算复杂概率的一个重要方法，使一个复杂概率的计算能化繁为简。\n",
    "\n",
    "&emsp;&emsp;设 $B_1, B_2, \\cdots, B_n$ 是基本空间 $\\Omega$ 的一个分割，则对 $\\Omega$ 中任一事件 $A$，有（具体的解释如下图）\n",
    "$$\n",
    "P(A)=\\sum_{i=1}^{n} P (A \\mid B_i) P(B_i)\n",
    "$$\n",
    "\n",
    "<div>\n",
    "<img src=\"./images/3.png\" width=\"200\" align=\"middle\"/>\n",
    "<img src=\"./images/4.png\" width=\"200\" align=\"middle\"/>\n",
    "</div>"
   ]
  },
  {
   "cell_type": "markdown",
   "id": "b29cf963",
   "metadata": {
    "pycharm": {
     "name": "#%% md\n"
    }
   },
   "source": [
    "【例子】一批产品来自三个工厂，需要得到这批产品的合格率。为此，对这三个工厂的产品进行调查，发现甲厂产品合格率为95%，乙厂产品合格率为80%，丙厂产品合格率为65%。这批产品中有60%来自甲厂，30%来自乙厂，余下10%来自丙厂。\n",
    "\n",
    "&emsp;&emsp;若记事件 $A$=“产品合格”、$B_1$=“产品来自甲厂”、$ B_2$=“产品来自乙厂”、$B_3$=“产品来自丙厂”。由上述调查可知\n",
    "$$\n",
    "\\begin{array}{ll}\n",
    "P(A \\mid B_1) = 0.95, \\quad P(A \\mid B_2) = 0.80, \\quad P(A \\mid B_3) = 0.65 \\\\\n",
    "P(B_1) = 0.60, \\quad P(B_2) = 0.30, \\quad P(B_3) = 0.10\n",
    "\\end{array}\n",
    "$$\n",
    "&emsp;&emsp;最后由全概率公式知\n",
    "$$\n",
    "\\begin{aligned}\n",
    "P(A) \n",
    "&= P(A \\mid B_1) P(B_1) + P(A \\mid B_2) P(B_2) + P(A \\mid B_3) P(B_3) \\\\\n",
    "&= 0.95 \\times 0.60 + 0.80 \\times 0.30 + 0.65 \\times 0.10 \\\\\n",
    "&= 0.875\n",
    "\\end{aligned}\n",
    "$$\n",
    "&emsp;&emsp;这批产品的合格率为0.875。"
   ]
  },
  {
   "cell_type": "markdown",
   "id": "f3e131a1",
   "metadata": {
    "pycharm": {
     "name": "#%% md\n"
    }
   },
   "source": [
    "（4）贝叶斯公式：\n",
    "\n",
    "&emsp;&emsp;结合条件概率公式、乘法公式和全概率公式，我们能得到强大的贝叶斯公式。现在，假定由于某些原因 $P(B_k \\mid A)$ 直接计算是十分困难的，但是$P(A \\mid B_k)$ 求起来相对简单，但是我们需要求解 $P(B_k \\mid A)$ 的值，怎么办呢？能不能用简单的 $P(A \\mid B_k)$ 求解复杂的 $P(B_k \\mid A)$呢？\n",
    "\n",
    "&emsp;&emsp;首先，我们写出所求的复杂的 $P(B_k \\mid A)$ 的定义公式，即：\n",
    "$$\n",
    "P(B_k \\mid A) = \\frac{P(AB_k)}{P(A)}\n",
    "$$\n",
    "&emsp;&emsp;其次，我们对分子分母分别使用乘法公式和全概率公式展开，即：\n",
    "$$\n",
    "P(B_k \\mid A) = \\frac{P(A \\mid B_k) P(B_k)}{\\sum_{i=1}^{n} P(A \\mid B_i) P(B_i)}, \\quad k=1,2,\\cdots,n\n",
    "$$\n",
    "&emsp;&emsp;至此，伟大的贝叶斯公式就被推导出来了。"
   ]
  },
  {
   "cell_type": "markdown",
   "id": "81a0a0f6",
   "metadata": {
    "pycharm": {
     "name": "#%% md\n"
    }
   },
   "source": [
    "【例子】三门问题（Monty Hall problem )，是一个源自博弈论的数学游戏问题，大致出自美国的电视游戏节目 Let's Make a Deal。问题的名字来自该节目的主持人蒙提・霍尔 (Monty Hall)。这个游戏的玩法是：参赛者会看见三扇关闭了的门，其中一扇的后面有一辆汽车，选中后面有车的那扇门就可以赢得该汽车，而另外两扇门后面则各藏有一只山羊。当参赛者选定了一扇门，但未去开启它的时候，节目主持人会开启剩下两扇门的其中一扇，露出其中一只山羊。主持人其后会问参赛者要不要换另一扇仍然关上的门。问题是：换另一扇门会否增加参赛者赢得汽车的机会率？"
   ]
  },
  {
   "cell_type": "markdown",
   "id": "49c00206",
   "metadata": {
    "pycharm": {
     "name": "#%% md\n"
    }
   },
   "source": [
    "**解：**\n",
    "- 在主持人不打开门时，选手抽中车的概率为 $1 / 3$。\n",
    "- 假设：$A$=事件“选手选择第一扇门，第一扇门中是车”；$B$=事件“选手选择第一扇门, 第二扇门中是车”；$C$=事件“选手选择第一扇门, 第三扇门口中是车”；$D$=事件“主持人打开第三扇门”。即：\n",
    "$$\n",
    "P(D \\mid A)=1 / 2 \\\\\n",
    "P(D \\mid B)=1 \\\\\n",
    "P(D \\mid C)=0 \\\\\n",
    "P(A)=P(B)=P(C)=1 / 3\n",
    "$$\n",
    "根据贝叶斯公式：\n",
    "$$\n",
    "P(D)=P(A) P(D \\mid A) + P(B) P(D \\mid B) + P(C) P(D \\mid C) = 1 / 2 \\\\\n",
    "P(A \\mid D) = P(A) P(D \\mid A) / P(D) = 1 / 3 \\\\\n",
    "P(B \\mid D) = P(B) P(D \\mid B) / P(D) = 2 / 3\n",
    "$$"
   ]
  },
  {
   "cell_type": "markdown",
   "id": "4e460423",
   "metadata": {
    "pycharm": {
     "name": "#%% md\n"
    }
   },
   "source": [
    "&emsp;&emsp;下面，我们使用python代码模拟三门问题："
   ]
  },
  {
   "cell_type": "code",
   "execution_count": 5,
   "id": "a7ef0ade",
   "metadata": {
    "pycharm": {
     "name": "#%%\n"
    }
   },
   "outputs": [
    {
     "name": "stdout",
     "output_type": "stream",
     "text": [
      "换且能拿到车的概率：66.67 %\n",
      "不换也能拿到车的概率：33.33%\n"
     ]
    }
   ],
   "source": [
    "import random\n",
    "\n",
    "\n",
    "class MontyHall:\n",
    "    def __init__(self, n):\n",
    "        \"\"\"\n",
    "        n : int,试验的次数\n",
    "        \"\"\"\n",
    "        self.n = n\n",
    "        self.change = 0  # 记录换才能拿到车的次数\n",
    "        self.No_change = 0  # 记录不换才能拿到车的次数\n",
    "\n",
    "    def start(self):\n",
    "        for i in range(self.n):\n",
    "            door_list = [1, 2, 3]   # 三扇门\n",
    "            challenger_door = random.choice(door_list)   # 随机选择了其中一扇\n",
    "            car_door = random.choice(door_list)     # 随机选定车的门\n",
    "            door_list.remove(challenger_door)   # 没有被挑战者选中的剩下的门\n",
    "            if challenger_door == car_door:\n",
    "                host_door = random.choice(door_list)\n",
    "                door_list.remove(host_door)        # 不换才能拿车\n",
    "                self.No_change += 1\n",
    "            else:\n",
    "                self.change += 1      # 换了才能拿车\n",
    "        print(\"换且能拿到车的概率：%.2f \" % (self.change/self.n * 100) + \"%\")\n",
    "        print(\"不换也能拿到车的概率：%.2f\" % (self.No_change/self.n * 100) + \"%\")\n",
    "\n",
    "\n",
    "if __name__ == \"__main__\":\n",
    "    mh = MontyHall(1000000)\n",
    "    mh.start()"
   ]
  },
  {
   "cell_type": "markdown",
   "id": "b839a0f1",
   "metadata": {
    "pycharm": {
     "name": "#%% md\n"
    }
   },
   "source": [
    "### 3 一维随机变量及其分布函数和密度函数"
   ]
  },
  {
   "cell_type": "markdown",
   "id": "eccfaf30",
   "metadata": {
    "pycharm": {
     "name": "#%% md\n"
    }
   },
   "source": [
    "&emsp;&emsp;在刚才的讨论中，我们讲解了概率论中的一些基本概念，也着重介绍了条件概率及其衍生中的乘法公式以及全概率公式和贝叶斯公式。但是人们对随机现象的兴趣常常集中在其结果的某个数量方面。譬如,质量检验员在检查20个产品时关心的是不合格品的个数。若记20个产品中不合格品的个数为 $X$，则这个 $X$ 可能取 $0,1,2, \\cdots, 20$ 中任一个数，可见此 $X$ 是变量。至于这个 $X$ 取哪一个数要看检査结果，事先不能确定，故此 $X$ 的取值又带有随机性，这样的变量又称为随机变量。这个随机变量 $X$ 是质量检验员的注意点。  \n",
    "&emsp;&emsp;有了随机变量后，有关事件的表示也方便了。如 $X=2$ 表示“20个产品中有2个不合格品”这一事件, 又如 $X \\leqslant 2$ 表示“20个产品中有不多于2个不合格品”这一事件。随机变量 $X$ 是基本结果 $\\omega$ 的函数，即可把 $X$ 记为 $X(\\omega)$。假如一个随机变量仅取数轴上的有限个或可列个孤立点，则称此随机变量为**离散随机变量**。如果随机变量的值充满数轴上的一个区间 $(a, b)$，则称此随机变量为**连续随机变量**，其中 $a$ 可以是 $-\\infty$，$b$ 可以是$＋\\infty$。"
   ]
  },
  {
   "cell_type": "markdown",
   "id": "46f9d239",
   "metadata": {
    "pycharm": {
     "name": "#%% md\n"
    }
   },
   "source": [
    "例如：\n",
    "- 抛一枚硬币，正面出现次数 $X$ 是仅可能取0与1两个值的随机变量。$X=0$ 表示“出现反面”，$X=1$ 表示“出现正面”。类似地，检査一个产品，不合格的个数 $Y$ 也是一个仅能取0与1两个值的随机变量。$Y=0$ 表示“合格品”，$Y=1$ 表示“不合格品”。\n",
    "- 检査 $n$ 个产品，不合格品数 $X$ 是可能取 $0,1, \\cdots, n$ 等 $n+1$ 个值的随机变量，$X=x$ 表示“$n$ 个产品中有 $x$ 个不合格品”。类似地，$n$ 台车床中需要维修的车床数 $Y$ 也是可能取 $0,1, \\cdots, n$ 等 $n+1$ 个值的随机变量， $Y=y$ 表示“ $n$ 台车床中有 $y$ 台需要维修”。\n",
    "- 测量误差 $X$ 是可在 $(-\\infty, \\infty)$ 上取值的随机变量。 $|X| \\leqslant 1 $ 表示“测量误差 $X$ 在 $[-1,+1]$ 内”。\n",
    "- 电视机的寿命 $Y$（单位：小时）是 $(0, \\infty)$ 上取值的随机变量，$Y>10000$ 表示“电视机寿命超过一万小时”。类似地，小客车每公里的耗油量 $Y$ （单位：升）也可看作在 $(0, \\infty)$ 上取值的随机变量。$Y \\leqslant 0.5$ 表示“小客车每公里的耗油量不超过半升”。"
   ]
  },
  {
   "cell_type": "markdown",
   "id": "bec70e31",
   "metadata": {
    "pycharm": {
     "name": "#%% md\n"
    }
   },
   "source": [
    "&emsp;&emsp;现在，我们已经可以使用随机变量表示随机事件，但是仍需考虑一个问题：随机变量 $X$ 取这些值的概率是多少？换句话说：随机事件对应的随机变量取这些值的概率是多少？计算一个由随机变量表示的随机事件的概率，思路有两种：**直接计算法（利用分布函数计算）**和**间接计算法（利用密度函数计算）**。"
   ]
  },
  {
   "cell_type": "markdown",
   "id": "bdfafc1d",
   "metadata": {
    "pycharm": {
     "name": "#%% md\n"
    }
   },
   "source": [
    "&emsp;&emsp;接下来我们来一起学习一个可以很方便计算随机变量概率的函数：分布函数（直接计算法）。\n",
    "\n",
    "&emsp;&emsp;设 $X$ 为一个随机变量，对任意实数 $x$，事件 $X \\leqslant x$ 的概率是 $x$ 的函数，记为\n",
    "$$\n",
    "F(x) = P(X \\leqslant x)\n",
    "$$\n",
    "&emsp;&emsp;这个函数称为 $X$ 的累积概率分布函数，简称分布函数。为什么要这么设置分布函数呢？原因可以从概率的本质入手，因为分布函数本身就是为了计算随机变量的概率。\n",
    "\n",
    "- $ 0 \\leqslant F(x) \\leqslant 1$，要记住，分布函数值是特定形式事件 $X \\leqslant x$ 的概率，而概率总在0与1之间\n",
    "- $\\displaystyle F(-\\infty) = \\lim _{x \\rightarrow-\\infty} F(x)=0$，这是因为事件 $X \\leqslant-\\infty$ 是不可能事件\n",
    "- $\\displaystyle F(+\\infty) = \\lim _{x \\rightarrow+\\infty} F(x)=1$，这是因为事件 $X \\leqslant+\\infty$ 是必然事件 \n",
    "- $F(x)$ 是非降函数，即对任意 $x_1 < x_2$，有 $F(x_1) \\leqslant F(x_2)$，这是因为事件 $ X \\leqslant x_2$ 包含事件 $X \\leqslant x_1 $ "
   ]
  },
  {
   "cell_type": "markdown",
   "id": "9814588e",
   "metadata": {
    "pycharm": {
     "name": "#%% md\n"
    }
   },
   "source": [
    "&emsp;&emsp;因此：\n",
    "$$\n",
    "\\begin{array}\n",
    "P(a<X \\leqslant b) = F(b)-F(a) \\\\\n",
    "P(X=a) = F(a) - F(a-0) \\\\\n",
    "P(X \\geqslant b) = 1 - F(b-0) \\\\\n",
    "P(X>b) = 1 - F(b) \\\\\n",
    "P(X<b) = F(b-0) \\\\\n",
    "P(a<X<b) = F(b-0) - F(a) \\\\\n",
    "P(a \\leqslant X \\leqslant b) = F(b) - F(a-0) \\\\\n",
    "P(a \\leqslant X<b) = F(b-0) - F(a-0)\n",
    "\\end{array}\n",
    "$$\n",
    "\n",
    "&emsp;&emsp;特别，当 $F(x)$ 在 $a$ 与 $b$ 处连续时，有\n",
    "$$\n",
    "F(a-0) = F(a), \\quad F(b-0) = F(b) \n",
    "$$"
   ]
  },
  {
   "cell_type": "markdown",
   "id": "d2f67b32",
   "metadata": {
    "pycharm": {
     "name": "#%% md\n"
    }
   },
   "source": [
    "【例子】反正切函数 $F(x) = \\dfrac{1}{\\pi}\\left(\\arctan x+\\dfrac{\\pi}{2}\\right),-\\infty<x<\\infty$ 是柯西分布的分布函数，函数如下图所示：\n",
    "\n",
    "<div>\n",
    "<img src=\"./images/5.png\" width=\"400\" align=\"middle\"/>\n",
    "</div>\n",
    "\n",
    "&emsp;&emsp;若 $X$ 服从柯西分布，则\n",
    "$$\n",
    "\\begin{aligned}\n",
    "P(-1 \\leqslant X \\leqslant 1) \n",
    "&= F(1) - F(-1) \\\\\n",
    "&= \\frac{1}{\\pi}[\\arctan (1)-\\arctan (-1)] \\\\\n",
    "&= \\frac{1}{\\pi} \\left[ \\frac{\\pi}{4} - \\left( -\\frac{\\pi}{4} \\right) \\right] \\\\\n",
    "&= \\frac{1}{2}\n",
    "\\end{aligned}\n",
    "$$"
   ]
  },
  {
   "cell_type": "markdown",
   "id": "bc516c0e",
   "metadata": {
    "pycharm": {
     "name": "#%% md\n"
    }
   },
   "source": [
    "&emsp;&emsp;分布函数是计算随机变量表示的随机事件的概率的直接方法，因为分布函数本身就是直接使用概率定义的。现在，让我们来看看计算随机变量表示的随机事件的概率的间接方法——**密度函数**。先来学习连续型随机变量的密度函数，现在不直接假设随机变量的概率函数是什么，我们使用：某个区间内的概率 = 区间长度 $\\times$ 长度内的概率密度，就好像一个小面积的质量等于面积内的密度 $\\times$ 面积。因此，概率的计算变成以下的表示：对任意两个实数 $a$ 与 $b$，其中 $a<b$，且 $a$ 可为 $-\\infty$，$b$ 可为 $+\\infty$，$X$ 在区间 $[a, b]$ 上取值的概率为曲线 $p(x)$ 在该区间上曲边梯形的面积，即\n",
    "$$\n",
    "P(a \\leqslant X \\leqslant b)=\\int_a^b p(x) dx\n",
    "$$\n",
    "则称密度函数 $p(x)$ 为连续随机变量 $X$ 的概率分布，或简称 $p(x)$ 为 $X$ 的密度函数，记为 $X \\sim p(x)$，读作“ $X$ 服从密度 $p(x)$ ”。\n",
    "\n",
    "&emsp;&emsp;由于概率密度函数 $P(x)$ 表示概率的密度，它应该遵守概率的基本特征（概率最大为1）：\n",
    "$$\n",
    "\\int_{-\\infty}^{\\infty} p(x) dx = 1, p(x) \\geqslant 0\n",
    "$$"
   ]
  },
  {
   "cell_type": "markdown",
   "id": "118f81dc",
   "metadata": {
    "pycharm": {
     "name": "#%% md\n"
    }
   },
   "source": [
    "&emsp;&emsp;那与连续随机变量相对应的离散随机变量，它的“密度函数”怎么表示呢？对于离散随机变量来说，我们往往使用分布列去对应连续随机变量密度函数的概念。因为连续随机变量的密度函数使用的是积分来表示，而离散情况下往往只需要简单的求和就可以表示，实际上，积分就是符号 $\\int$ 就是拉长的求和符号 $\\sum$，他们本质上都是求和。因此，设 $X$ 是一个离散随机变量，如果 $X$ 的所有可能取值是 $x_1, x_2, \\cdots, x_n, \\cdots$，则称 $X$ 取 $x_i$ 的概率：\n",
    "$$\n",
    "p_i = p(x_i) = P(X = x_i), \\quad i = 1,2, \\cdots, n,\\cdots\n",
    "$$\n",
    "为 $X$ 的概率分布列或简称为分布列，记为 $X \\sim \\{ p_i \\}$\n",
    "\n",
    "分布列如下图：\n",
    "$$\n",
    "\\begin{array}{c|ccccc}\n",
    "X & x_{1} & x_{2} & \\cdots & x_{n} & \\cdots \\\\\n",
    "\\hline P & p(x_1) & p(x_2) & \\cdots & p(x_n) & \\cdots\n",
    "\\end{array}\n",
    "$$"
   ]
  },
  {
   "cell_type": "markdown",
   "id": "6fef77c2",
   "metadata": {
    "pycharm": {
     "name": "#%% md\n"
    }
   },
   "source": [
    "【例子】柯西分布的分布函数为：$F(x)=\\dfrac{1}{\\pi}\\left(\\arctan x + \\dfrac{\\pi}{2}\\right), -\\infty < x < \\infty$，求柯西分布的密度函数？"
   ]
  },
  {
   "cell_type": "markdown",
   "id": "c50bafc7",
   "metadata": {
    "pycharm": {
     "name": "#%% md\n"
    }
   },
   "source": [
    "**解：**"
   ]
  },
  {
   "cell_type": "markdown",
   "id": "fd705503",
   "metadata": {
    "pycharm": {
     "name": "#%% md\n"
    }
   },
   "source": [
    "$$\n",
    "F'(x) = p(x) = \\frac{1}{\\pi} \\cdot \\frac{1}{1 + x^2}, \\quad -\\infty < x < \\infty \n",
    "$$"
   ]
  },
  {
   "cell_type": "markdown",
   "id": "0d2890a6",
   "metadata": {
    "pycharm": {
     "name": "#%% md\n"
    }
   },
   "source": [
    "【例子】投掷一颗骰子，设 $X$ 为投掷的点数，求随机变量 $X$ 分布列和分布函数。"
   ]
  },
  {
   "cell_type": "markdown",
   "id": "68cc6ac5",
   "metadata": {
    "pycharm": {
     "name": "#%% md\n"
    }
   },
   "source": [
    "**解：**"
   ]
  },
  {
   "cell_type": "markdown",
   "id": "40f6847d",
   "metadata": {
    "pycharm": {
     "name": "#%% md\n"
    }
   },
   "source": [
    "分布列：\n",
    "$$\n",
    "\\begin{array}{c|cccccc}\n",
    "X & 1 & 2 & 3 & 4 & 5 & 6 \\\\\n",
    "\\hline P & \\dfrac{1}{6} & \\dfrac{1}{6} & \\dfrac{1}{6} & \\dfrac{1}{6} & \\dfrac{1}{6} & \\dfrac{1}{6}\n",
    "\\end{array}\n",
    "$$\n",
    "\n",
    "分布函数：\n",
    "$$\n",
    "F(x) = P(X \\leqslant x) = \\begin{cases} \n",
    "0, & x<1 \\\\ \n",
    "\\dfrac{i}{6}, & i \\leqslant x < i+1, \\quad i=1,2,3,4,5 \\\\ \n",
    "1, & x \\geqslant 6\n",
    "\\end{cases}\n",
    "$$"
   ]
  },
  {
   "cell_type": "markdown",
   "id": "d1999fb2",
   "metadata": {
    "pycharm": {
     "name": "#%% md\n"
    }
   },
   "source": [
    "【例子】如何使用python已知密度函数求分布函数，或是已知分布函数求密度函数："
   ]
  },
  {
   "cell_type": "code",
   "execution_count": 6,
   "id": "4c9b5747",
   "metadata": {
    "pycharm": {
     "name": "#%%\n"
    }
   },
   "outputs": [
    {
     "data": {
      "text/latex": [
       "$\\displaystyle \\frac{\\operatorname{atan}{\\left(x \\right)}}{\\pi} + \\frac{1}{2}$"
      ],
      "text/plain": [
       "atan(x)/pi + 1/2"
      ]
     },
     "execution_count": 6,
     "metadata": {},
     "output_type": "execute_result"
    }
   ],
   "source": [
    "from sympy import *\n",
    "\n",
    "# 已知柯西分布的密度函数求分布函数\n",
    "x = symbols('x')\n",
    "p_x = 1/pi*(1/(1+x**2))\n",
    "\n",
    "integrate(p_x, (x, -oo, x))"
   ]
  },
  {
   "cell_type": "code",
   "execution_count": 7,
   "id": "2dd0ac12",
   "metadata": {
    "pycharm": {
     "name": "#%%\n"
    }
   },
   "outputs": [
    {
     "data": {
      "text/latex": [
       "$\\displaystyle \\frac{1}{\\pi \\left(x^{2} + 1\\right)}$"
      ],
      "text/plain": [
       "1/(pi*(x**2 + 1))"
      ]
     },
     "execution_count": 7,
     "metadata": {},
     "output_type": "execute_result"
    }
   ],
   "source": [
    "from sympy import *\n",
    "\n",
    "# 已知柯西分布的分布函数求密度函数\n",
    "x = symbols('x')\n",
    "f_x = 1/pi*(atan(x)+pi/2)\n",
    "\n",
    "diff(f_x, x, 1)"
   ]
  },
  {
   "cell_type": "markdown",
   "id": "6a30589c",
   "metadata": {
    "pycharm": {
     "name": "#%% md\n"
    }
   },
   "source": [
    "&emsp;&emsp;下面介绍常见的连续型随机变量及其密度函数：\n",
    "\n",
    "（1）均匀分布：\n",
    "\n",
    "&emsp;&emsp;一般地，在有限区间 $[a, b]$ 上为常数，在此区间外为0，该密度函数 $p(x)$ 称为均匀分布，并记为 $U(a, b)$，其密度函数为\n",
    "$$\n",
    "p(x)= \\begin{cases} \n",
    "\\dfrac{1}{b-a}, & a \\leqslant x \\leqslant b \\\\ \n",
    "0, & \\text { 其它 }\n",
    "\\end{cases}\n",
    "$$\n",
    "&emsp;&emsp;均匀分布的分布函数为：\n",
    "$$\n",
    "F(x)= \\begin{cases}\n",
    "0, & x<a \\\\ \n",
    "\\dfrac{x-a}{b-a}, & a \\leqslant x < b \\\\ \n",
    "1, & x \\geqslant b\\end{cases}\n",
    "$$\n",
    "&emsp;&emsp;均匀分布是最简单的，也是最常见的分布，例如：小明去约会，他下午14:00-18:00都**等可能**出现，那么出现的时间点就满足均匀分布。"
   ]
  },
  {
   "cell_type": "code",
   "execution_count": 8,
   "id": "751ab016",
   "metadata": {
    "pycharm": {
     "name": "#%%\n"
    }
   },
   "outputs": [
    {
     "data": {
      "image/png": "[encoded data removed]",
      "text/plain": [
       "<Figure size 432x288 with 1 Axes>"
      ]
     },
     "metadata": {},
     "output_type": "display_data"
    }
   ],
   "source": [
    "# 【0，1】上的均匀分布\n",
    "a = float(0)\n",
    "b = float(1)\n",
    "\n",
    "x = np.linspace(a, b)\n",
    "# np.full 构造一个数组，用指定值填充其元素\n",
    "y = np.full(shape=len(x), fill_value=1/(b - a))\n",
    "\n",
    "plt.plot(x, y, \"b\", linewidth=2)\n",
    "plt.ylim(0, 1.2)\n",
    "plt.xlim(-1, 2)\n",
    "plt.xlabel('X')\n",
    "plt.ylabel('p (x)')\n",
    "plt.title('uniform distribution')\n",
    "plt.show()"
   ]
  },
  {
   "cell_type": "markdown",
   "id": "84017234",
   "metadata": {
    "pycharm": {
     "name": "#%% md\n"
    }
   },
   "source": [
    "（2）指数分布：\n",
    "\n",
    "&emsp;&emsp;若随机变量 $X$ 的密度函数为\n",
    "$$\n",
    "p(x) = \\begin{cases}\n",
    "\\lambda e^{-\\lambda x}, & x \\geqslant 0 \\\\\n",
    "0, & x<0\n",
    "\\end{cases}\n",
    "$$\n",
    "&emsp;&emsp;则称 $X$ 服从指数分布，记作 $X \\sim \\operatorname{Exp}(\\lambda)$，其中参数 $\\lambda>0$。其中 $\\lambda$ 是根据实际背景而定的正参数，假如某连续随机变量 $X \\sim \\operatorname{Exp}(\\lambda)$，则表示 $X$ 仅可能取非负实数。\n",
    "\n",
    "&emsp;&emsp;指数分布的分布函数为：\n",
    "$$\n",
    "F(x)= \\begin{cases}\n",
    "1-\\mathrm{e}^{-\\lambda x}, & x \\geqslant 0 \\\\ \n",
    "0, & x < 0\n",
    "\\end{cases}\n",
    "$$"
   ]
  },
  {
   "cell_type": "markdown",
   "id": "974f6d81",
   "metadata": {
    "pycharm": {
     "name": "#%% md\n"
    }
   },
   "source": [
    "&emsp;&emsp;实际中不少产品首次发生故障（需要维修）的时间服从指数分布。譬如，某种热水器首次发生故障的时间 $T$（单位：小时）服从指数分布 $\\operatorname{Exp}(0.002)$，即 $T$ 的密度函数为\n",
    "$$\n",
    "p(t) = \\begin{cases}\n",
    "0.002 e^{-0.002 t}, & t \\geqslant 0 \\\\\n",
    "0, & t < 0\n",
    "\\end{cases}\n",
    "$$"
   ]
  },
  {
   "cell_type": "code",
   "execution_count": 9,
   "id": "041c98dc",
   "metadata": {
    "pycharm": {
     "name": "#%%\n"
    }
   },
   "outputs": [
    {
     "data": {
      "image/png": "[encoded data removed]",
      "text/plain": [
       "<Figure size 432x288 with 1 Axes>"
      ]
     },
     "metadata": {},
     "output_type": "display_data"
    }
   ],
   "source": [
    "# 指数分布\n",
    "lam = float(1.5)\n",
    "\n",
    "x = np.linspace(0, 15, 100)\n",
    "y = lam * np.e**(-lam * x)\n",
    "\n",
    "plt.plot(x, y, \"b\", linewidth=2)\n",
    "plt.xlim(-5, 10)\n",
    "plt.xlabel('X')\n",
    "plt.ylabel('p (x)')\n",
    "plt.title('exponential distribution')\n",
    "plt.show()"
   ]
  },
  {
   "cell_type": "markdown",
   "id": "11af359e",
   "metadata": {
    "pycharm": {
     "name": "#%% md\n"
    }
   },
   "source": [
    "（3）正态分布（高斯分布）\n",
    "\n",
    "&emsp;&emsp;正态分布是《概率论与数理统计》中最重要的一个分布，高斯（Gauss, 1777-1855）在研究误差理论时，首次用正态分布来刻画误差的分布，所以正态分布又称为高斯分布。\n",
    "\n",
    "&emsp;&emsp;若随机变量 $X$ 的密度函数为\n",
    "$$\n",
    "p(x) = \\frac{1}{\\sqrt{2 \\pi} \\sigma} e^{-\\frac{(x-\\mu)^2}{2 \\sigma^2}}, \\quad-\\infty<x<\\infty\n",
    "$$\n",
    "&emsp;&emsp;则称 $X$ 服从正态分布，称 $X$ 为正态变量，记作 $X \\sim N(\\mu, \\sigma^2)$。其中参数 $-\\infty < \\mu < \\infty, \\sigma > 0$。"
   ]
  },
  {
   "cell_type": "code",
   "execution_count": 10,
   "id": "74996f40",
   "metadata": {
    "pycharm": {
     "name": "#%%\n"
    }
   },
   "outputs": [
    {
     "data": {
      "text/latex": [
       "$\\displaystyle \\frac{\\sqrt{2} e^{- \\frac{\\mu^{2}}{2 \\sigma^{2}}} \\int\\limits_{-\\infty}^{x} e^{- \\frac{x^{2}}{2 \\sigma^{2}}} e^{\\frac{\\mu x}{\\sigma^{2}}}\\, dx}{2 \\sqrt{\\pi} \\sigma}$"
      ],
      "text/plain": [
       "sqrt(2)*exp(-mu**2/(2*sigma**2))*Integral(exp(-x**2/(2*sigma**2))*exp(mu*x/sigma**2), (x, -oo, x))/(2*sqrt(pi)*sigma)"
      ]
     },
     "execution_count": 10,
     "metadata": {},
     "output_type": "execute_result"
    }
   ],
   "source": [
    "from sympy import *\n",
    "from sympy.abc import mu, sigma\n",
    "\n",
    "# 已知正态分布的密度函数求分布函数\n",
    "x = symbols('x')\n",
    "p_x = 1/(sqrt(2*pi)*sigma)*E**(-(x-mu)**2/(2*sigma**2))\n",
    "\n",
    "integrate(p_x, (x, -oo, x))"
   ]
  },
  {
   "cell_type": "code",
   "execution_count": 12,
   "id": "743974a3",
   "metadata": {
    "pycharm": {
     "name": "#%%\n"
    }
   },
   "outputs": [
    {
     "data": {
      "image/png": "[encoded data removed]",
      "text/plain": [
       "<Figure size 432x288 with 1 Axes>"
      ]
     },
     "metadata": {},
     "output_type": "display_data"
    }
   ],
   "source": [
    "# 绘制正态分布曲线\n",
    "import math\n",
    "\n",
    "mu = float(0)\n",
    "mu1 = float(2)\n",
    "sigma1 = float(1)\n",
    "sigma2 = float(1.25)*float(1.25)\n",
    "sigma3 = float(0.25)\n",
    "x = np.linspace(-5, 5, 1000)\n",
    "y1 = np.exp(-(x - mu)**2 / (2 * sigma1**2)) / (math.sqrt(2 * math.pi) * sigma1)\n",
    "y2 = np.exp(-(x - mu)**2 / (2 * sigma2**2)) / (math.sqrt(2 * math.pi) * sigma2)\n",
    "y3 = np.exp(-(x - mu)**2 / (2 * sigma3**2)) / (math.sqrt(2 * math.pi) * sigma3)\n",
    "y4 = np.exp(-(x - mu1)**2 / (2 * sigma1**2)) / \\\n",
    "    (math.sqrt(2 * math.pi) * sigma1)\n",
    "plt.plot(x, y1, \"b\", linewidth=2, label=r'$\\mu=0,\\sigma=1$')\n",
    "plt.plot(x, y2, \"orange\", linewidth=2, label=r'$\\mu=0,\\sigma=1.25$')\n",
    "plt.plot(x, y3, \"yellow\", linewidth=2, label=r'$\\mu=0,\\sigma=0.5$')\n",
    "plt.plot(x, y4, \"b\", linewidth=2, label=r'$\\mu=2,\\sigma=1$', ls='--')\n",
    "plt.axvline(x=mu, ls='--')\n",
    "plt.text(x=0.05, y=0.5, s=r'$\\mu=0$')\n",
    "plt.axvline(x=mu1, ls='--')\n",
    "plt.text(x=2.05, y=0.5, s=r'$\\mu=2$')\n",
    "plt.xlim(-5, 5)\n",
    "plt.xlabel('X')\n",
    "plt.ylabel('p (x)')\n",
    "plt.title('normal distribution')\n",
    "plt.legend()\n",
    "plt.show()"
   ]
  },
  {
   "cell_type": "markdown",
   "id": "6ff87f4f",
   "metadata": {
    "pycharm": {
     "name": "#%% md\n"
    }
   },
   "source": [
    "- 如果固定 $\\sigma$，改变 $\\mu$ 的值，则图形沿 $x$ 轴平移。也就是说正态密度函数的位置由参数 $\\mu$ 所确定，因此亦称 $\\mu$ 为位置参数。\n",
    "- 如果固定 $\\mu$，改变 $\\sigma$ 的值，则分布的位置不变，但 $\\sigma$ 愈小，曲线呈高而瘦，分布较为集中；$\\sigma$ 愈大，曲线呈矮而胖，分布较为分散。也就是说正态密度函数的尺度由参数 $\\sigma$ 所确定，因此称 $\\sigma$ 为尺度参数。"
   ]
  },
  {
   "cell_type": "code",
   "execution_count": 13,
   "id": "562f419c",
   "metadata": {
    "pycharm": {
     "name": "#%%\n"
    }
   },
   "outputs": [
    {
     "data": {
      "image/png": "[encoded data removed]",
      "text/plain": [
       "<Figure size 432x288 with 1 Axes>"
      ]
     },
     "metadata": {},
     "output_type": "display_data"
    }
   ],
   "source": [
    "# 使用scipy计算pdf画图(非自定义函数)\n",
    "from scipy.stats import expon  # 指数分布\n",
    "x = np.linspace(0.01, 10, 1000)\n",
    "# pdf表示求密度函数值\n",
    "plt.plot(x, expon.pdf(x), 'r-', lw=5, alpha=0.6, label='expon pdf')\n",
    "plt.xlabel(\"X\")\n",
    "plt.ylabel(\"p (x)\")\n",
    "plt.legend()\n",
    "plt.show()"
   ]
  },
  {
   "cell_type": "code",
   "execution_count": 14,
   "id": "c22fa99d",
   "metadata": {
    "pycharm": {
     "name": "#%%\n"
    }
   },
   "outputs": [
    {
     "data": {
      "image/png": "[encoded data removed]",
      "text/plain": [
       "<Figure size 432x288 with 1 Axes>"
      ]
     },
     "metadata": {},
     "output_type": "display_data"
    }
   ],
   "source": [
    "# 使用scipy计算cdf画图(非自定义函数)\n",
    "from scipy.stats import expon\n",
    "x = np.linspace(0.01, 10, 1000)\n",
    "# cdf表示求分布函数值\n",
    "plt.plot(x, expon.cdf(x), 'r-', lw=5, alpha=0.6, label='expon cdf')\n",
    "plt.xlabel(\"X\")\n",
    "plt.ylabel(\"F (x)\")\n",
    "plt.legend()\n",
    "plt.show()"
   ]
  },
  {
   "cell_type": "markdown",
   "id": "58462ed7",
   "metadata": {
    "pycharm": {
     "name": "#%% md\n"
    }
   },
   "source": [
    "&emsp;&emsp;下面介绍常见的离散型随机变量及其分布列：\n",
    "\n",
    "（1）0-1分布（伯努利分布）：\n",
    "\n",
    "&emsp;&emsp;满足相互独立、只取两个值的随机变量通常称为伯努利（Bernoulli）随机变量。进行一次事件试验，该事件发生的概率为 $p$，不发生的概率为 $1-p$。这是一个最简单的分布，任何一个只有两种结果的随机事件都服从0-1分布。\n",
    "$$\n",
    "P\\{X = k\\}=p^k (1-p)^{1-k}\n",
    "$$\n",
    "其中 $k=0,1$。\n",
    "\n",
    "&emsp;&emsp;我们也可以写成分布列的表格形式：\n",
    "$$\n",
    "\\begin{array}{c|cccccc}\n",
    "X & 0 & 1 \\\\\n",
    "\\hline P & p & 1-p \n",
    "\\end{array}\n",
    "$$"
   ]
  },
  {
   "cell_type": "markdown",
   "id": "27f6a64b",
   "metadata": {
    "pycharm": {
     "name": "#%% md\n"
    }
   },
   "source": [
    "（2）二项分布：\n",
    "\n",
    "&emsp;&emsp;用 $B_{n, k}$ 表示事件“$n$ 重伯努里试验中成功出现 $k$ 次”。设随机变量 $X$ 为 $n$ 重伯努里试验中成功的次数，则有 $B_{n, k}$=事件 “$ X=k $”。其中 $X$ 可能取的值为 $0,1, \\cdots, n$，它取这些值的概率为\n",
    "$$\n",
    "P(X=x)=\\left(\\begin{array}{l}\n",
    "n \\\\\n",
    "x\n",
    "\\end{array}\\right) p^x (1-p)^{n-x}, \\quad x=0,1, \\cdots, n\n",
    "$$ "
   ]
  },
  {
   "cell_type": "markdown",
   "id": "4a363199",
   "metadata": {
    "pycharm": {
     "name": "#%% md\n"
    }
   },
   "source": [
    "【例子】某特效药的临床有效率为0.95，今有10人服用，问至少有8人治愈的概率是多少？"
   ]
  },
  {
   "cell_type": "markdown",
   "id": "924802a6",
   "metadata": {
    "pycharm": {
     "name": "#%% md\n"
    }
   },
   "source": [
    "**解：**\n",
    "\n",
    "&emsp;&emsp;设 $X$ 为10人中被治愈的人数，则 $X \\sim B(10, 0.95)$， 而所求概率为\n",
    "$$\n",
    "\\begin{aligned}\n",
    "P(X \\geqslant 8) \n",
    "&= P(X=8) + P(X=9) + P(X=10) \\\\\n",
    "&= \\left(\\begin{array}{c}\n",
    "10 \\\\\n",
    "8\n",
    "\\end{array}\\right) 0.95^8 \\cdot 0.05^2 + \\left(\\begin{array}{c}\n",
    "10 \\\\\n",
    "9\n",
    "\\end{array}\\right) 0.95^9 \\cdot 0.05+\\left(\\begin{array}{c}\n",
    "10 \\\\\n",
    "10\n",
    "\\end{array}\\right) 0.95^{10} \\\\\n",
    "&= 0.0746 + 0.3151 + 0.5987 \\\\\n",
    "&= 0.9884\n",
    "\\end{aligned}\n",
    "$$\n",
    "&emsp;&emsp;答：10人中至少有8人被治愈的概率为0.9884。"
   ]
  },
  {
   "cell_type": "markdown",
   "id": "c98742cc",
   "metadata": {
    "pycharm": {
     "name": "#%% md\n"
    }
   },
   "source": [
    "（3）泊松分布：\n",
    "\n",
    "&emsp;&emsp;泊松分布是1837年由法国数学家泊松（Poisson, 1781-1840）首次提出的，泊松分布的分布列为：\n",
    "$$\n",
    "P(X=x) = \\frac{\\lambda^x}{x !} e^{-\\lambda}\n",
    "$$\n",
    "其中： $\\lambda>0$ 为常数，是区间事件发生率的均值。泊松分布是一种常用的离散分布, 它常与单位时间（或单位面积、单位产品等）上的计数过程相联系，譬如,\n",
    "- 在一天内，来到某商场的顾客数。（$\\lambda$就是单位时间内商场的顾客数）\n",
    "- 在单位时间内，一电路受到外界电磁波的冲击次数\n",
    "- 1平方米内， 玻璃上的气泡数\n",
    "- 一铸件上的砂眼数\n",
    "- 在一定时期内，某种放射性物质放射出来的 $\\alpha$-粒子数等等 \n",
    "\n",
    "以上的例子都服从泊松分布。因此，泊松分布的应用面是十分广泛的。"
   ]
  },
  {
   "cell_type": "code",
   "execution_count": 15,
   "id": "e4a81e70",
   "metadata": {
    "pycharm": {
     "name": "#%%\n"
    }
   },
   "outputs": [
    {
     "data": {
      "image/png": "[encoded data removed]",
      "text/plain": [
       "<Figure size 432x288 with 1 Axes>"
      ]
     },
     "metadata": {},
     "output_type": "display_data"
    },
    {
     "data": {
      "image/png": "[encoded data removed]",
      "text/plain": [
       "<Figure size 432x288 with 1 Axes>"
      ]
     },
     "metadata": {},
     "output_type": "display_data"
    },
    {
     "data": {
      "image/png": "[encoded data removed]",
      "text/plain": [
       "<Figure size 432x288 with 1 Axes>"
      ]
     },
     "metadata": {},
     "output_type": "display_data"
    },
    {
     "data": {
      "image/png": "[encoded data removed]",
      "text/plain": [
       "<Figure size 432x288 with 1 Axes>"
      ]
     },
     "metadata": {},
     "output_type": "display_data"
    }
   ],
   "source": [
    "# 对比不同的lambda对泊松分布的影响\n",
    "import math\n",
    "\n",
    "\n",
    "# 构造泊松分布列的计算函数\n",
    "def poisson(lmd, x):\n",
    "    return pow(lmd, x)/math.factorial(x)*math.exp(-lmd)\n",
    "\n",
    "\n",
    "x = [i+1 for i in range(10)]\n",
    "lmd1 = 0.8\n",
    "lmd2 = 2.0\n",
    "lmd3 = 4.0\n",
    "lmd4 = 6.0\n",
    "p_lmd1 = [poisson(lmd1, i) for i in x]\n",
    "p_lmd2 = [poisson(lmd2, i) for i in x]\n",
    "p_lmd3 = [poisson(lmd3, i) for i in x]\n",
    "p_lmd4 = [poisson(lmd4, i) for i in x]\n",
    "\n",
    "plt.scatter(np.array(x), p_lmd1, c='b', alpha=0.7)\n",
    "plt.axvline(x=lmd1, ls='--')\n",
    "plt.text(x=lmd1+0.1, y=0.1, s=r\"$\\lambda=0.8$\")\n",
    "plt.ylim(-0.1, 1)\n",
    "plt.xlabel(\"X\")\n",
    "plt.ylabel(\"p (x)\")\n",
    "plt.title(r\"$\\lambda = 0.8$\")\n",
    "plt.show()\n",
    "\n",
    "plt.scatter(np.array(x), p_lmd2, c='b', alpha=0.7)\n",
    "plt.axvline(x=lmd2, ls='--')\n",
    "plt.text(x=lmd2+0.1, y=0.1, s=r\"$\\lambda=2.0$\")\n",
    "plt.ylim(-0.1, 1)\n",
    "plt.xlabel(\"X\")\n",
    "plt.ylabel(\"p (x)\")\n",
    "plt.title(r\"$\\lambda = 2.0$\")\n",
    "plt.show()\n",
    "\n",
    "plt.scatter(np.array(x), p_lmd3, c='b', alpha=0.7)\n",
    "plt.axvline(x=lmd3, ls='--')\n",
    "plt.text(x=lmd3+0.1, y=0.1, s=r\"$\\lambda=4.0$\")\n",
    "plt.ylim(-0.1, 1)\n",
    "plt.xlabel(\"X\")\n",
    "plt.ylabel(\"p (x)\")\n",
    "plt.title(r\"$\\lambda = 4.0$\")\n",
    "plt.show()\n",
    "\n",
    "plt.scatter(np.array(x), p_lmd4, c='b', alpha=0.7)\n",
    "plt.axvline(x=lmd4, ls='--')\n",
    "plt.text(x=lmd4+0.1, y=0.1, s=r\"$\\lambda=6.0$\")\n",
    "plt.ylim(-0.1, 1)\n",
    "plt.xlabel(\"X\")\n",
    "plt.ylabel(\"p (x)\")\n",
    "plt.title(r\"$\\lambda = 6.0$\")\n",
    "plt.show()"
   ]
  },
  {
   "cell_type": "markdown",
   "id": "16b46b12",
   "metadata": {
    "pycharm": {
     "name": "#%% md\n"
    }
   },
   "source": [
    "从上图可以看出:\n",
    "- 位于 $\\lambda$（均值）附近概率较大\n",
    "- 随着 $\\lambda$ 的增加，分布逐渐趋于对称"
   ]
  },
  {
   "cell_type": "code",
   "execution_count": 16,
   "id": "a44172d7",
   "metadata": {
    "pycharm": {
     "name": "#%%\n"
    }
   },
   "outputs": [
    {
     "data": {
      "image/png": "[encoded data removed]",
      "text/plain": [
       "<Figure size 432x288 with 1 Axes>"
      ]
     },
     "metadata": {},
     "output_type": "display_data"
    }
   ],
   "source": [
    "# 使用scipy的pmf和cdf画图\n",
    "from scipy.stats import binom\n",
    "n = 10\n",
    "p = 0.5\n",
    "x = np.arange(1, n+1, 1)\n",
    "pList = binom.pmf(x, n, p)\n",
    "plt.plot(x, pList, marker='o', alpha=0.7, linestyle='None')\n",
    "\n",
    "# vlines用于绘制竖直线(vertical lines),\n",
    "# 参数说明：vline(x坐标值, y坐标最小值, y坐标值最大值)\n",
    "plt.vlines(x, 0, pList)\n",
    "plt.xlabel('随机变量：抛硬币10次')\n",
    "plt.ylabel('概率')\n",
    "plt.title('二项分布：n=%d,p=%0.2f' % (n, p))\n",
    "plt.show()"
   ]
  },
  {
   "cell_type": "markdown",
   "id": "70323253",
   "metadata": {
    "pycharm": {
     "name": "#%% md\n"
    }
   },
   "source": [
    "### 4 一维随机变量的数字特征：期望、方差、分位数与中位数"
   ]
  },
  {
   "cell_type": "markdown",
   "id": "de24fb26",
   "metadata": {
    "pycharm": {
     "name": "#%% md\n"
    }
   },
   "source": [
    "&emsp;&emsp;其实，在刚刚讨论的随机变量以及随机变量的密度函数、分布列等等概念，已经可以把随机事件描述地非常完整了，因为随机变量及其密度函数/分布列能把这个随机变量的所有信息都囊括起来。为什么需要随机变量的数字特征呢？因为在某些场合，我们不需要知道这个随机变量的方方面面，可能仅仅只需要知道某个侧面的信息。例如：我们知道明天的股票价格是一个随机变量，因为不知道明天股票的价格是多少。但是需要把明天的股票价格的每一个价格的概率都计算出来形成一个分布吗？显然不需要，我们更关心的是明天的股价在一般水平上比今天的股价是涨还是跌，如果涨了选择买入，跌了选择卖出。**因此，我们需要对随机变量的不同侧面进行描述，最好是能用一个数字去表述清楚，而不是像分布一样是一个函数表达式，这个数字就是我们所说的一维随机变量的数字特征。**"
   ]
  },
  {
   "cell_type": "markdown",
   "id": "a6b550e2",
   "metadata": {
    "pycharm": {
     "name": "#%% md\n"
    }
   },
   "source": [
    "（1）数学期望（均值）：\n",
    "\n",
    "&emsp;&emsp;“期望”在日常生活中常指有根据的希望，或发生可能性较大的希望。譬如，一位人寿保险经纪人告诉我们：“40岁的妇女可期望再活38年。”这不是说40岁的美国妇女都活78岁，然后第二天立刻去世，而是指40岁的妇女中，有些可再活20年，有些再活50年，平均可再活38年，即再活38年左右（如再活 $38 \\pm 10$ 年）的可能性大一些；又如“某种轮胎可期望行驶6万公里”，也是指此种轮胎平均可行驶6万公里，就个别轮胎来说，有的行驶可超过6万公里，有的行驶可能不到6万公里就报废，而行驶6万公里左右的可能性大一些。因此，下面谈及的“数学期望”是指用概率分布算得的一种加权平均。"
   ]
  },
  {
   "cell_type": "markdown",
   "id": "1933822f",
   "metadata": {
    "pycharm": {
     "name": "#%% md\n"
    }
   },
   "source": [
    "&emsp;&emsp;离散型随机变量的数学期望：\n",
    "\n",
    "&emsp;&emsp;设**离散随机变量** $X$ 的分布列为\n",
    "$$\n",
    "P=(X=x_i)=p(x_i), \\quad i=1,2, \\cdots, n\n",
    "$$\n",
    "&emsp;&emsp;则：\n",
    "$$\n",
    "E(X)=\\sum_{i=1}^n x_i p(x_i)\n",
    "$$"
   ]
  },
  {
   "cell_type": "markdown",
   "id": "9c2945f7",
   "metadata": {
    "pycharm": {
     "name": "#%% md\n"
    }
   },
   "source": [
    "&emsp;&emsp;连续型随机变量的数学期望：\n",
    "\n",
    "&emsp;&emsp;设**连续随机变量** $X$ 有密度函数 $p(x)$，如果积分\n",
    "$$\n",
    "\\int_{-\\infty}^{\\infty}|x| p(x) dx\n",
    "$$\n",
    "有限，则称\n",
    "$$\n",
    "E(X)=\\int_{-\\infty}^{\\infty} x p(x) d x\n",
    "$$\n",
    "为 $X$ 的数学期望，简称期望、期望值或均值。如果积分无限，则说 $X$ 的数学期望不存在。"
   ]
  },
  {
   "cell_type": "markdown",
   "id": "ec2f816c",
   "metadata": {
    "pycharm": {
     "name": "#%% md\n"
    }
   },
   "source": [
    "&emsp;&emsp;数学期望的理论意义是深刻的, 它是消除随机性的主要手段！\n",
    "\n",
    "【例子】以 $X$ 记一张彩票的奖金额，则 $X$ 的分布列如下：\n",
    "\n",
    "$$\n",
    "\\begin{array}{c|cccccccc}\n",
    "\\hline X & 500000 & 50000 & 5000 & 500 & 50 & 10 & 0 \\\\\n",
    "\\hline P & 0.000001 & 0.000009 & 0.00009 & 0.0009 & 0.009 & 0.09 & 0.9 & \\\\\n",
    "\\hline\n",
    "\\end{array}\n",
    "$$\n",
    "求一张彩票的平均所得奖金？"
   ]
  },
  {
   "cell_type": "markdown",
   "id": "b022bdf6",
   "metadata": {
    "pycharm": {
     "name": "#%% md\n"
    }
   },
   "source": [
    "**解：**\n",
    "\n",
    "$$\n",
    "E(X) = 0.5 + 0.45 + 0.45 + 0.45 + 0.45 + 0.9 + 0 = 3.2\n",
    "$$\n",
    "\n",
    "&emsp;&emsp;假设每张福利彩票售价5元，每售出100万张就开一次奖，那么每一次开奖就会把筹得的500万中的320万（$3.2 \\times 1000000 = 3200000$）以奖金的形式返还给彩民，剩下的180万则用于福利事业和管理费用，这也是福利彩票的原理。"
   ]
  },
  {
   "cell_type": "markdown",
   "id": "631d6532",
   "metadata": {
    "pycharm": {
     "name": "#%% md\n"
    }
   },
   "source": [
    "【例子】设 $X$ 服从区间 $(a, b)$ 上的均匀分布，求 $E(X)$。\n",
    "\n",
    "**解：**\n",
    "\n",
    "&emsp;&emsp;$X$ 的密度函数为：\n",
    "$$\n",
    "p(x)=\\begin{cases}\n",
    "\\dfrac{1}{b-a}, & a < x < b \\\\\n",
    "0, & \\text { 其他 }\n",
    "\\end{cases}\n",
    "$$\n",
    "&emsp;&emsp;所以\n",
    "$$\n",
    "E(X) = \\int_a^b x \\cdot \\frac{1}{b-a} \\mathrm{~d} x = \\left.\\frac{1}{b-a} \\cdot \\frac{x^2}{2}\\right|_a^b = \\frac{a+b}{2}\n",
    "$$\n",
    "&emsp;&emsp;这个结果是可以理解的，因为 $X$ 在区间 $(a, b)$ 上的取值是均匀的，所以它的平均取值当然应该是 $(a, b)$ 的“中点”，即 $(a+b) / 2$。"
   ]
  },
  {
   "cell_type": "markdown",
   "id": "54849202",
   "metadata": {
    "pycharm": {
     "name": "#%% md\n"
    }
   },
   "source": [
    "数学期望的性质：\n",
    "- 若 $c$ 是常数，则 $E(c)=c$。\n",
    "- 对任意常数 $a$，有 $E(a X) = a E(X)$。\n",
    "- 设 $(X, Y)$ 是二维随机变量, 则有 $E(X+Y) = E(X) + E(Y)$\n",
    "- **若随机变量 $X$ 与 $Y$ 相互独立**, 则有 $E(X Y) = E(X) E(Y)$\n",
    "   "
   ]
  },
  {
   "cell_type": "markdown",
   "id": "fece05f7",
   "metadata": {
    "pycharm": {
     "name": "#%% md\n"
    }
   },
   "source": [
    "**下面给出常见的分布的数学期望：**\n",
    "- 0-1分布：$E(X)=p$\n",
    "- 二项分布：$E(X) = np$\n",
    "- 泊松分布：$E(X) = \\lambda$\n",
    "- 均匀分布：$E(X) = \\dfrac{a+b}{2}$\n",
    "- 指数分布：$E(X) = \\dfrac{1}{\\lambda}$\n",
    "- 正态分布：$E(X) = \\mu$"
   ]
  },
  {
   "cell_type": "markdown",
   "id": "b7303375",
   "metadata": {
    "pycharm": {
     "name": "#%% md\n"
    }
   },
   "source": [
    "（2）方差与标准差：\n",
    "\n",
    "&emsp;&emsp;随机变量 $X$ 的数学期望 $E(X)$ 是分布的一种**位置特征数**，它刻画了 $X$ 的取值总在 $E(X)$ 周围波动。但这个位置特征数无法反映出随机变量取值的“波动大小”，譬如 $X$ 与 $Y$ 的分布列分别为：\n",
    "$$\n",
    "\\begin{array}{c|ccc}\n",
    "X & -1 & 0 & 1 \\\\\n",
    "\\hline P & 1/3 & 1/3 & 1/3\n",
    "\\end{array}\n",
    "$$\n",
    "与\n",
    "$$\n",
    "\\begin{array}{c|ccc}\n",
    "Y & -10 & 0 & 10 \\\\\n",
    "\\hline P & 1/3 & 1/3 & 1/3\n",
    "\\end{array}\n",
    "$$\n",
    "&emsp;&emsp;尽管它们的数学期望都是0，但显然 $Y$ 取值的波动要比 $X$ 取值的波动大。如何用数值来反映随机变量取值的“波动”大小，方差与标准差是一个不错的衡量指标。"
   ]
  },
  {
   "cell_type": "markdown",
   "id": "b131862a",
   "metadata": {
    "pycharm": {
     "name": "#%% md\n"
    }
   },
   "source": [
    "&emsp;&emsp;方差在金融中扮演着重要的作用，就拿明天的股票价格这个随机变量来说，如果明天的股价波动较大，往往代表着明天的股价不稳定程度高，风险大，即使明天的股价期望比今天要高，也不会选择买入股票，因为很有可能股价会比今天低而导致损失。因此，方差是衡量随机变量波动程度的数学量，具体的：数学期望 $E(X)$ 是分布的位置特征数，它总位于分布的中心，随机变量 $X$ 的取值总在其周围波动。方差是度量此种波动大小的最重要的特征数。"
   ]
  },
  {
   "cell_type": "markdown",
   "id": "8194207f",
   "metadata": {
    "pycharm": {
     "name": "#%% md\n"
    }
   },
   "source": [
    "&emsp;&emsp;若随机变量 $X^2$ 的数学期望 $E(X^2)$ 存在， 则称偏差平方 $(X-E(X))^2$ 的数学期望 $E(X-E(X))^2$ 为随机变量 $X$（或相应分布）的方差，记为：\n",
    "$$\n",
    "\\text{Var}(X) = E(X-E(X))^2\n",
    "$$\n",
    "\n",
    "&emsp;&emsp;离散型随机变量的方差：\n",
    "$$\n",
    "\\sum_i (x_i - E(X))^2 p(x_i)\n",
    "$$\n",
    "&emsp;&emsp;连续型随机变量的方差：\n",
    "$$\n",
    "\\int_{-\\infty}^{\\infty}(x-E(X))^2 p(x) d x\n",
    "$$\n",
    "&emsp;&emsp;方差的正平方根 $[\\text{Var}(X)]^{1 / 2}$ 称为随机变量 $X$（或相应分布）的标准差，记为 $\\sigma_X$ 或 $\\sigma(X)$。"
   ]
  },
  {
   "cell_type": "markdown",
   "id": "573b0d4b",
   "metadata": {
    "pycharm": {
     "name": "#%% md\n"
    }
   },
   "source": [
    "【例子】某人有一笔资金，可投人两个项目：房地产和商业, 其收益都与市场状态有关。若把末来市场划分为好、中、差三个等级，其发生的概率分别为0.2、0.7、0.1。通过调查，该投资者认为投资于房地产的收益 $X$（万元）和投资于商业的收益 $Y$（万元）的分布分别为：\n",
    "$$\n",
    "\\begin{array}{c|ccc}\n",
    "X & 11 & 3 & -3 \\\\\n",
    "\\hline P & 0.2 & 0.7 & 0.1\n",
    "\\end{array}\n",
    "$$\n",
    "与\n",
    "$$\n",
    "\\begin{array}{c|ccc}\n",
    "Y & 6 & 4 & -1 \\\\\n",
    "\\hline P & 0.2 & 0.7 & 0.1\n",
    "\\end{array}\n",
    "$$"
   ]
  },
  {
   "cell_type": "markdown",
   "id": "27e7cd2b",
   "metadata": {
    "pycharm": {
     "name": "#%% md\n"
    }
   },
   "source": [
    "**解：**\n",
    "\n",
    "&emsp;&emsp;先来看看平均收益（数学期望）：\n",
    "$$\n",
    "E(X)=11 \\times 0.2 + 3 \\times 0.7 + (-3) \\times 0.1 = 4.0 (\\text {万元}) \\\\\n",
    "E(Y)=6 \\times 0.2 + 4 \\times 0.7 + (-1) \\times 0.1 = 3.9 (\\text {万元}) \n",
    "$$\n",
    "&emsp;&emsp;显然，投资房地产的收益比投资商业的收益大，大约平均大了0.1万元。下面来计算各自投资的风险（方差/标准差）：  \n",
    "\n",
    "&emsp;&emsp;方差：\n",
    "$$\n",
    "\\text{Var}(X)=(11-4)^2 \\times 0.2 + (3-4)^2 \\times 0.7+(-3-4)^2 \\times 0.1 = 15.4 \\\\\n",
    "\\text{Var}(Y)=(6-3.9)^2 \\times 0.2 + (4-3.9)^2 \\times 0.7+(-1-3.9)^2 \\times 0.1 = 3.29\n",
    "$$\n",
    "标准差：\n",
    "$$\n",
    "\\sigma(X) = \\sqrt{15.4} = 3.92, \\quad \\sigma(Y) = \\sqrt{3.29} = 1.81\n",
    "$$\n",
    "&emsp;&emsp;由于标准差越大，说明投资的收益波动越大，那么风险也就越大。虽然投资房地产的平均收益比投资商业的平均收益大0.1万元，但是前者风险却是后者的两倍大，如果综合衡量收益与风险，还是投资商业为妙。"
   ]
  },
  {
   "cell_type": "markdown",
   "id": "5acbf617",
   "metadata": {
    "pycharm": {
     "name": "#%% md\n"
    }
   },
   "source": [
    "方差的性质：\n",
    "- 最重要的性质：$\\text{Var}(X) = E(X^2) - [E(X)]^2$\n",
    "- 常数的方差为0， 即 $\\text{Var}(c) = 0$，其中 $c$ 是常数\n",
    "- 若 $a, b$ 是常数，则 $\\text{Var}(a X+b)=a^2 \\text{Var}(X)$\n",
    "- 若随机变量 $X$ 与 $Y$ 相互独立，则有$\\text{Var}(X \\pm Y)=\\text{Var}(X)+\\text{Var}(Y) $"
   ]
  },
  {
   "cell_type": "markdown",
   "id": "8c2f740c",
   "metadata": {
    "pycharm": {
     "name": "#%% md\n"
    }
   },
   "source": [
    "常见分布的方差：\n",
    "- 0-1分布：$\\text{Var}(X) = p(1-p)$\n",
    "- 二项分布：$\\text{Var}(X) = np(1-p)$\n",
    "- 泊松分布：$\\text{Var}(X) = \\lambda$\n",
    "- 均匀分布：$\\text{Var}(X) = \\dfrac{(b-a)^{2}}{12}$\n",
    "- 正态分布：$\\text{Var}(X) = \\sigma^2$\n",
    "- 指数分布：$\\text{Var}(X) = \\dfrac{1}{\\lambda^{2}}$"
   ]
  },
  {
   "cell_type": "code",
   "execution_count": 17,
   "id": "6957ca8d",
   "metadata": {
    "pycharm": {
     "is_executing": true,
     "name": "#%%\n"
    }
   },
   "outputs": [
    {
     "name": "stdout",
     "output_type": "stream",
     "text": [
      "0-1分布的数字特征：均值:0.5；方差:0.25；标准差:0.5\n",
      "二项分布b(100,0.5)的数字特征：均值:50.0；方差:25.0；标准差:5.0\n",
      "泊松分布P(0.6)的数字特征：均值:0.6；方差:0.6；标准差:0.7745966692414834\n",
      "特定离散随机变量的数字特征：均值:3.5；方差:2.916666666666666；标准差:1.707825127659933\n",
      "均匀分布U(1,1+5)的数字特征：均值:3.5；方差:2.083333333333333；标准差:1.4433756729740643\n",
      "正态分布N(0,0.0001)的数字特征：均值:0.0；方差:0.0001；标准差:0.01\n",
      "指数分布Exp(5)的数字特征：均值:0.2；方差:0.04000000000000001；标准差:0.2\n",
      "标准正态分布的数字特征：均值:-5.955875168377274e-16；方差:0.9999999993068875；标准差:0.9999999996534438\n",
      "Exp(5.0)分布的数字特征：均值:0.20826191530838004；方差:0.03678419445629287；标准差:0.1917920604620871\n",
      "dist分布的数字特征：均值:3.333333333333334；方差:1.3888888888888857；标准差:1.178511301977578\n"
     ]
    }
   ],
   "source": [
    "# 使用scipy计算常见分布的均值与方差：(如果忘记公式的话直接查，不需要查书了)\n",
    "import math\n",
    "from scipy.stats import bernoulli   # 0-1分布\n",
    "from scipy.stats import binom   # 二项分布\n",
    "from scipy.stats import poisson  # 泊松分布\n",
    "from scipy.stats import rv_discrete  # 自定义离散随机变量\n",
    "from scipy.stats import uniform  # 均匀分布\n",
    "from scipy.stats import expon  # 指数分布\n",
    "from scipy.stats import norm  # 正态分布\n",
    "from scipy.stats import rv_continuous  # 自定义连续随机变量\n",
    "\n",
    "print(\"0-1分布的数字特征：均值:{}；方差:{}；标准差:{}\".format(bernoulli(p=0.5).mean(),\n",
    "                                             bernoulli(p=0.5).var(),\n",
    "                                             bernoulli(p=0.5).std()))\n",
    "print(\"二项分布b(100,0.5)的数字特征：均值:{}；方差:{}；标准差:{}\".format(binom(n=100, p=0.5).mean(),\n",
    "                                                      binom(\n",
    "                                                          n=100, p=0.5).var(),\n",
    "                                                      binom(n=100, p=0.5).std()))\n",
    "# 模拟抛骰子的特定分布\n",
    "xk = np.arange(6)+1\n",
    "pk = np.array([1.0/6]*6)\n",
    "print(\"泊松分布P(0.6)的数字特征：均值:{}；方差:{}；标准差:{}\".format(poisson(0.6).mean(),\n",
    "                                                  poisson(0.6).var(),\n",
    "                                                  poisson(0.6).std()))\n",
    "print(\"特定离散随机变量的数字特征：均值:{}；方差:{}；标准差:{}\".format(rv_discrete(name='dice', values=(xk, pk)).mean(),\n",
    "                                                rv_discrete(\n",
    "                                                    name='dice', values=(xk, pk)).var(),\n",
    "                                                rv_discrete(name='dice', values=(xk, pk)).std()))\n",
    "print(\"均匀分布U(1,1+5)的数字特征：均值:{}；方差:{}；标准差:{}\".format(uniform(loc=1, scale=5).mean(),\n",
    "                                                    uniform(\n",
    "                                                        loc=1, scale=5).var(),\n",
    "                                                    uniform(loc=1, scale=5).std()))\n",
    "print(\"正态分布N(0,0.0001)的数字特征：均值:{}；方差:{}；标准差:{}\".format(norm(loc=0, scale=0.01).mean(),\n",
    "                                                       norm(\n",
    "                                                           loc=0, scale=0.01).var(),\n",
    "                                                       norm(loc=0, scale=0.01).std()))\n",
    "\n",
    "lmd = 5.0  # 指数分布的lambda = 5.0\n",
    "print(\"指数分布Exp(5)的数字特征：均值:{}；方差:{}；标准差:{}\".format(expon(scale=1.0/lmd).mean(),\n",
    "                                                  expon(scale=1.0/lmd).var(),\n",
    "                                                  expon(scale=1.0/lmd).std()))\n",
    "\n",
    "# 自定义标准正态分布\n",
    "class gaussian_gen(rv_continuous):\n",
    "    def _pdf(self, x):  # tongguo\n",
    "        return np.exp(-x**2 / 2.) / np.sqrt(2.0 * np.pi)\n",
    "\n",
    "\n",
    "gaussian = gaussian_gen(name='gaussian')\n",
    "print(\"标准正态分布的数字特征：均值:{}；方差:{}；标准差:{}\".format(gaussian().mean(),\n",
    "                                              gaussian().var(),\n",
    "                                              gaussian().std()))\n",
    "\n",
    "# 自定义指数分布\n",
    "class Exp_gen(rv_continuous):\n",
    "    def _pdf(self, x, lmd):\n",
    "        y = 0\n",
    "        if x > 0:\n",
    "            y = lmd * math.e**(-lmd*x)\n",
    "        return y\n",
    "\n",
    "\n",
    "Exp = Exp_gen(name='Exp(5.0)')\n",
    "print(\"Exp(5.0)分布的数字特征：均值:{}；方差:{}；标准差:{}\".format(Exp(5.0).mean(),\n",
    "                                                  Exp(5.0).var(),\n",
    "                                                  Exp(5.0).std()))\n",
    "\n",
    "# 通过分布函数自定义分布\n",
    "class Distance_circle(rv_continuous):  # 自定义分布xdist\n",
    "    \"\"\"\n",
    "    向半径为r的圆内投掷一点，点到圆心距离的随机变量X的分布函数为:\n",
    "    if x<0: F(x) = 0;\n",
    "    if 0<=x<=r: F(x) = x^2 / r^2\n",
    "    if x>r: F(x)=1\n",
    "    \"\"\"\n",
    "\n",
    "    def _cdf(self, x, r):  # 累积分布函数定义随机变量\n",
    "        f = np.zeros(x.size)  # 函数值初始化为0\n",
    "        index = np.where((x >= 0) & (x <= r))  # 0<=x<=r\n",
    "        f[index] = ((x[index])/r[index])**2  # 0<=x<=r\n",
    "        index = np.where(x > r)  # x>r\n",
    "        f[index] = 1  # x>r\n",
    "        return f\n",
    "\n",
    "\n",
    "dist = Distance_circle(name=\"distance_circle\")\n",
    "print(\"dist分布的数字特征：均值:{}；方差:{}；标准差:{}\".format(dist(5.0).mean(),\n",
    "                                              dist(5.0).var(),\n",
    "                                              dist(5.0).std()))"
   ]
  },
  {
   "cell_type": "markdown",
   "id": "c9b7dd5b",
   "metadata": {
    "pycharm": {
     "name": "#%% md\n"
    }
   },
   "source": [
    "（3）分位数与中位数：\n",
    "\n",
    "&emsp;&emsp;一般来说，分位数和中位数的讨论往往是基于连续型随机变量来说的，因为离散型随机变量的某个概率对应的分位数和中位数有可能不唯一或者不存在。那么什么是分位数呢？分位数和数学期望一样，都是描述随机变量的位置的数字特征，我们把累计概率等于 $p$ 所对应的随机变量取值 $x$ 为 $p$ 分位数，具体是：\n",
    "\n",
    "&emsp;&emsp;设连续随机变量 $X$ 的分布函数为 $F(x)$，密度函数为 $p(x)$。对任意 $p \\in(0,1)$，称满足条件\n",
    "$$\n",
    "F(x_p) = \\int_{-\\infty}^{x_p} p(x) d x = p\n",
    "$$\n",
    "的 $x_p$ 为此分布的 $p$ 分位数，又称下侧 $p$ 分位数。\n",
    "\n",
    "<div>\n",
    "<img src=\"./images/6.png\" width=\"400\" align=\"middle\"/>\n",
    "</div>"
   ]
  },
  {
   "cell_type": "markdown",
   "id": "d5dfb830",
   "metadata": {
    "pycharm": {
     "name": "#%% md\n"
    }
   },
   "source": [
    "&emsp;&emsp;分位数与上侧分位数是可以相互转换的，其转换公式如下：\n",
    "$$\n",
    "x'_p = x_{1-p}, \\quad x_p = x'_{1-p} \n",
    "$$"
   ]
  },
  {
   "cell_type": "markdown",
   "id": "037ef050",
   "metadata": {
    "pycharm": {
     "name": "#%% md\n"
    }
   },
   "source": [
    "&emsp;&emsp;**中位数就是 $p=0.5$ 时的分位数点**，具体为：\n",
    "\n",
    "&emsp;&emsp;设连续随机变量 $X$ 的分布函数为 $F(x)$，密度函数为 $p(x)$。称 $p=0.5$ 时的 $p$ 分位数 $x_{0.5}$ 为此分布的中位数，即 $x_{0.5}$ 满足\n",
    "$$\n",
    "F(x_{0.5})=\\int_{-\\infty}^{x_{0.5}} p(x) d x=0.5 \n",
    "$$\n",
    "\n",
    "<div>\n",
    "<img src=\"./images/7.png\" width=\"400\" align=\"middle\"/>\n",
    "</div>"
   ]
  },
  {
   "cell_type": "markdown",
   "id": "56c08013",
   "metadata": {
    "pycharm": {
     "name": "#%% md\n"
    }
   },
   "source": [
    "&emsp;&emsp;数学期望与中位数都是属于位置特征数，但是有时候中位数可能比期望更能说明问题。假如某个城市的平均薪资为5000，中位数薪资为4000，那么能说明有一半的人收入少于4000而有一半大于等于4000。但是平均薪资却有5000，说明了有相当一部分的高收入人群拉高了收入均数，该城市的薪资差异较大。一般来说，均值与中位数相差不大往往能代表系统结构是正常的，如果偏离较大，则说明系统结构出现了偏离。中位数往往比均值更加稳健，因为不容易受到极端数据的影响，但是中位数计算比较麻烦，接受起来也比较麻烦；均值会受到极端数据的影响，但是计算简单，也容易接受。"
   ]
  },
  {
   "cell_type": "markdown",
   "id": "6dff7506",
   "metadata": {
    "pycharm": {
     "name": "#%% md\n"
    }
   },
   "source": [
    "【例子】使用python计算标准正态分布的0.25、0.5（中位数）、0.75、0.95分位数点。"
   ]
  },
  {
   "cell_type": "code",
   "execution_count": 18,
   "id": "780d2fdb",
   "metadata": {
    "pycharm": {
     "is_executing": true,
     "name": "#%%\n"
    }
   },
   "outputs": [
    {
     "name": "stdout",
     "output_type": "stream",
     "text": [
      "标准正态分布的0.25分位数： -0.6744897501960817\n",
      "标准正态分布的0.5分位数： 0.0\n",
      "标准正态分布的0.75分位数： 0.6744897501960817\n",
      "标准正态分布的0.95分位数： 1.6448536269514722\n"
     ]
    }
   ],
   "source": [
    "from scipy.stats import norm\n",
    "\n",
    "# 使用ppf计算分位数点\n",
    "print(\"标准正态分布的0.25分位数：\", norm(loc=0, scale=1).ppf(0.25))\n",
    "print(\"标准正态分布的0.5分位数：\", norm(loc=0, scale=1).ppf(0.5))\n",
    "print(\"标准正态分布的0.75分位数：\", norm(loc=0, scale=1).ppf(0.75))\n",
    "print(\"标准正态分布的0.95分位数：\", norm(loc=0, scale=1).ppf(0.95))"
   ]
  },
  {
   "cell_type": "markdown",
   "id": "32da3418",
   "metadata": {
    "pycharm": {
     "name": "#%% md\n"
    }
   },
   "source": [
    "### 5 多维随机变量及其联合分布、边际分布、条件分布"
   ]
  },
  {
   "cell_type": "markdown",
   "id": "af671160",
   "metadata": {
    "pycharm": {
     "name": "#%% md\n"
    }
   },
   "source": [
    "&emsp;&emsp;在之前关于随机变量的讨论中，我们仅仅只研究了单一随机变量及其分布情况，但是现实中的问题往往影响的因素有很多，而且是相互影响的。例如：人的身高与什么因素相关？可能与每天吃钙物质的量、影响身高基因的数量、基因的表达情况等等。单一影响因素并不能满足日常问题的研究，因此需要引入多维随机变量的概念。通俗的说，多维随机变量就是多个随机变量的结合，从一个推广到多个，在线性代数中我们已经干过这件事，那就是使用向量去表达！具体地说：\n",
    "\n",
    "&emsp;&emsp;若随机变量 $X_1(\\omega), X_2(\\omega), \\cdots, X_n(\\omega)$ 定义在同一个基本空间 $\\Omega=\\{\\omega\\}$ 上，则称\n",
    "$$\n",
    "\\boldsymbol{X}(\\omega)=(X_1(\\omega), X_2(\\omega), \\cdots, X_n(\\omega))\n",
    "$$ \n",
    "是一个多维随机变量，也称为 $n$ 维随机向量。"
   ]
  },
  {
   "cell_type": "markdown",
   "id": "9414bbe7",
   "metadata": {
    "pycharm": {
     "name": "#%% md\n"
    }
   },
   "source": [
    "（1.1）n维随机变量的联合分布函数：\n",
    "\n",
    "&emsp;&emsp;一维随机变量的分布函数是一个关于 $x$ 的函数，而 $n$ 维随机变量的联合分布函数就是关于 $n$ 个自变量的函数：\n",
    "\n",
    "设 $X=(X_1, X_2, \\cdots, X_n)$ 是 $n$ 维随机变量， 对任意 $n$ 个实数 $x_1, x_2, \\cdots, x_n$ 所组成的 $n$ 个事件 $X_1 \\leqslant x_1, X_2 \\leqslant x_2, \\cdots, X_n \\leqslant x_n$ 同时发生的概率\n",
    "$$\n",
    "F(x_1, x_2, \\cdots, x_n) = P(X_1 \\leqslant x_1, X_2 \\leqslant x_2, \\cdots, X_n \\leqslant x_n)\n",
    "$$\n",
    "称为 $n$ 维随机变量 $X$ 的联合分布函数。"
   ]
  },
  {
   "cell_type": "markdown",
   "id": "4312c8db",
   "metadata": {
    "pycharm": {
     "name": "#%% md\n"
    }
   },
   "source": [
    "（1.2）多维连续随机变量的联合密度函数：\n",
    "\n",
    "&emsp;&emsp;一维随机变量的密度函数是通过分布函数来确定的，也就是分布函数是密度函数的积分，那推广至多维随机变量也是如此：\n",
    "\n",
    "&emsp;&emsp;设二维随机变量 $(X, Y)$ 的分布函数为 $F(x, y)$ 。假如各分量 $X$ 和 $Y$ 都是一维连续随机变量，并存在定义在平面上的非负函数 $p(x, y)$，使得\n",
    "$$\n",
    "F(x, y) = \\int_{-\\infty}^x \\int_{-\\infty}^y p(x, y) dx dy\n",
    "$$\n",
    "则称 $(X, Y)$ 为二维连续随机变量，$p(x, y)$ 称为 $(X, Y)$ 的联合概率密度函数，或简称联合密度。\n",
    "\n",
    "&emsp;&emsp;在$F(x, y)$ 偏导数存在的点上有\n",
    "$$\n",
    "p(x, y) = \\frac{\\partial^2}{\\partial x \\partial y} F(x, y) \n",
    "$$"
   ]
  },
  {
   "cell_type": "markdown",
   "id": "622e0763",
   "metadata": {
    "pycharm": {
     "name": "#%% md\n"
    }
   },
   "source": [
    "（1.3）多维离散随机变量的联合分布列：\n",
    "\n",
    "&emsp;&emsp;如果二维随机变量 $(X, Y)$ 只取有限个或可列个数对 $(x_i, y_j)$，则称 $(X, Y)$ 为二维离散随机变量，称\n",
    "$$\n",
    "p_{i j} = P(X=x_i, Y=y_j), \\quad i, j=1,2, \\cdots\n",
    "$$\n",
    "为 $(X, Y)$ 的联合分布列， 也可用如下表格形式记联合分布列：\n",
    "\n",
    "<div>\n",
    "<img src=\"./images/8.png\" width=\"600\" align=\"middle\"/>\n",
    "</div>"
   ]
  },
  {
   "cell_type": "markdown",
   "id": "6d407779",
   "metadata": {
    "pycharm": {
     "name": "#%% md\n"
    }
   },
   "source": [
    "【例子】从 $1,2,3,4$ 中任取一数记为 $X$，再从 $1,2, \\cdots, X$ 中任取一数记为 $Y$。求 $(X, Y)$ 的联合分布列及 $P(X=Y)$。\n",
    "\n",
    "**解：**\n",
    "\n",
    "&emsp;&emsp;根据题意，可得到联合分布列：\n",
    "<div>\n",
    "<img src=\"./images/9.png\" width=\"600\" align=\"middle\"/>\n",
    "</div>\n",
    "\n",
    "$$\n",
    "P(X=Y) = p_{11} + p_{22} + p_{33} + p_{44} = \\frac{1}{4} + \\frac{1}{8} + \\frac{1}{12} + \\frac{1}{16} = \\frac{25}{48} = 0.5208\n",
    "$$"
   ]
  },
  {
   "cell_type": "code",
   "execution_count": 19,
   "id": "11b8f0c8",
   "metadata": {
    "pycharm": {
     "is_executing": true,
     "name": "#%%\n"
    }
   },
   "outputs": [
    {
     "data": {
      "image/png": "[encoded data removed]",
      "text/plain": [
       "<Figure size 864x576 with 1 Axes>"
      ]
     },
     "metadata": {},
     "output_type": "display_data"
    }
   ],
   "source": [
    "# 绘制二维正态分布的联合概率密度曲面图\n",
    "from scipy.stats import multivariate_normal\n",
    "from mpl_toolkits.mplot3d import axes3d\n",
    "\n",
    "x, y = np.mgrid[-5:5:.01, -5:5:.01]  # 返回多维结构\n",
    "pos = np.dstack((x, y))\n",
    "rv = multivariate_normal([0.5, -0.2], [[2.0, 0.3], [0.3, 0.5]])\n",
    "z = rv.pdf(pos)\n",
    "plt.figure('Surface', facecolor='lightgray', figsize=(12, 8))\n",
    "ax = plt.axes(projection='3d')\n",
    "ax.set_xlabel('X', fontsize=14)\n",
    "ax.set_ylabel('Y', fontsize=14)\n",
    "ax.set_zlabel('P (X,Y)', fontsize=14)\n",
    "ax.plot_surface(x, y, z, rstride=50, cstride=50, cmap='jet')\n",
    "plt.show()"
   ]
  },
  {
   "cell_type": "code",
   "execution_count": 20,
   "id": "a2d3c691",
   "metadata": {
    "pycharm": {
     "is_executing": true,
     "name": "#%%\n"
    }
   },
   "outputs": [
    {
     "data": {
      "image/png": "[encoded data removed]",
      "text/plain": [
       "<Figure size 576x432 with 1 Axes>"
      ]
     },
     "metadata": {},
     "output_type": "display_data"
    }
   ],
   "source": [
    "# 绘制二维正态分布的联合概率密度等高线图\n",
    "from scipy.stats import multivariate_normal\n",
    "\n",
    "x, y = np.mgrid[-1:1:.01, -1:1:.01]\n",
    "pos = np.dstack((x, y))\n",
    "rv = multivariate_normal([0.5, -0.2], [[2.0, 0.3], [0.3, 0.5]])\n",
    "z = rv.pdf(pos)\n",
    "fig = plt.figure(figsize=(8, 6))\n",
    "ax2 = fig.add_subplot(111)\n",
    "ax2.set_xlabel('X', fontsize=14)\n",
    "ax2.set_ylabel('Y', fontsize=14)\n",
    "ax2.contourf(x, y, z, rstride=50, cstride=50, cmap='jet')\n",
    "plt.show()"
   ]
  },
  {
   "cell_type": "markdown",
   "id": "bc510492",
   "metadata": {
    "pycharm": {
     "name": "#%% md\n"
    }
   },
   "source": [
    "（2.1）边际分布函数：\n",
    "\n",
    "&emsp;&emsp;多维随机变量的联合密度函数、联合分布列或者联合分布函数蕴含了这个多维随机向量的所有信息，这些信息主要包括：\n",
    "- 每个分量的分布 (每个分量的所有信息)，即边际分布。\n",
    "- 两个分量之间的关联程度，用协方差和相关系数来描述。（后面介绍）\n",
    "- 给定一个分量时，另一个分量的分布，即条件分布。"
   ]
  },
  {
   "cell_type": "markdown",
   "id": "7b5d8f7f",
   "metadata": {
    "pycharm": {
     "name": "#%% md\n"
    }
   },
   "source": [
    "&emsp;&emsp;多维随机向量中，每个元素（即单一随机变量）都可能受到这组向量其他随机变量的影响，这种影响可以通过协方差来反映。所谓的边际分布，就是指多维随机向量中的其中一个随机变量 $X$ 排除其他随机变量影响的分布，即 $X$ 自身的分布。具体来说就是：\n",
    "\n",
    "&emsp;&emsp;如果在二维随机变量 $(X, Y)$ 的联合分布函数 $F(x, y)$ 中令 $y \\rightarrow \\infty$，由于 $\\{Y<\\infty\\}$ 为必然事件，故可得：\n",
    "$$\n",
    "\\lim _{y \\rightarrow \\infty} F(x, y) = P(X \\leqslant x, Y<\\infty) = P(X \\leqslant x)\n",
    "$$\n",
    "&emsp;&emsp;这是由 $(X, Y)$ 的联合分布函数 $F(x, y)$ 求得的 $X$ 的分布函数，被称为 $X$ 的边际分布，记为\n",
    "$$\n",
    "F_X(x) = F(x, \\infty)\n",
    "$$\n",
    "&emsp;&emsp;类似地，在 $F(x, y)$ 中令 $x \\rightarrow \\infty$，可得 $Y$ 的边际分布：\n",
    "$$\n",
    "F_Y(y) = F(\\infty, y) \n",
    "$$"
   ]
  },
  {
   "cell_type": "markdown",
   "id": "e4fe3d3d",
   "metadata": {
    "pycharm": {
     "name": "#%% md\n"
    }
   },
   "source": [
    "【例子】设二维随机变量 $(X, Y)$ 的联合分布函数为\n",
    "$$\n",
    "F(x, y)= \\begin{cases}\n",
    "1 - e^{-x} - e^{-y} + e^{-x-y-\\lambda x y}, & x>0, y>0  \\\\ \n",
    "0, & \\text { 其他 }\n",
    "\\end{cases}\n",
    "$$\n",
    "这个分布被称为二维指数分布，其中参数 $\\lambda>0$。"
   ]
  },
  {
   "cell_type": "markdown",
   "id": "16c52c8d",
   "metadata": {
    "pycharm": {
     "name": "#%% md\n"
    }
   },
   "source": [
    "**解：**\n",
    "\n",
    "$$\n",
    "F_X(x) = F(x, \\infty) = \\begin{cases} \n",
    "1-e^{-x}, & x>0 \\\\\n",
    "0, & x \\leqslant 0 \n",
    "\\end{cases} \\\\\n",
    "F_Y(y) = F(\\infty, y) = \\begin{cases}\n",
    "1-e^{-y}, & y>0 \\\\\n",
    "0, & y \\leqslant 0 \n",
    "\\end{cases}\n",
    "$$\n",
    "&emsp;&emsp;它们都是一维指数分布。不同的 $\\lambda>0$ 对应不同的二维指数分布，但它们的两个边际分布与参数 $\\lambda>0$ 无关。这说明：二维联合分布不仅含有每个分量的概率分布， 而且还含有两个变量 $X$ 与 $Y$ 之间关系的信息。"
   ]
  },
  {
   "cell_type": "markdown",
   "id": "652c8291",
   "metadata": {
    "pycharm": {
     "name": "#%% md\n"
    }
   },
   "source": [
    "（2.2）边际密度函数：\n",
    "\n",
    "&emsp;&emsp;如果二维连续随机变量 $(X, Y)$ 的联合密度函数为 $p(x, y)$， 因为\n",
    "$$\n",
    "F_X(x) = F(x, \\infty) = \\int_{-\\infty}^x (\\int_{-\\infty}^{\\infty} p(u, v) dv) du = \\int_{-\\infty}^x p_X(u) du \\\\\n",
    "F_Y(y) = F(\\infty, y) = \\int_{-\\infty}^y (\\int_{-\\infty}^{\\infty} p(u, v) du) dv = \\int_{-\\infty}^y p_Y(v) dv\n",
    "$$\n",
    "其中 $p_X(x)$ 和 $p_Y(y)$ 分别为\n",
    "$$\n",
    "p_X(x) = \\int_{-\\infty}^{\\infty} p(x, y) dy \\\\\n",
    "p_Y(y) = \\int_{-\\infty}^{\\infty} p(x, y) dx\n",
    "$$"
   ]
  },
  {
   "cell_type": "markdown",
   "id": "6633143d",
   "metadata": {
    "pycharm": {
     "name": "#%% md\n"
    }
   },
   "source": [
    "【例子】设二维随机变量 $(X, Y)$ 的联合密度函数为\n",
    "$$\n",
    "p(x, y)= \\begin{cases}\n",
    "1, & 0<x<1,|y|<x \\\\ \n",
    "0, & \\text { 其他 }\n",
    "\\end{cases}\n",
    "$$\n",
    "&emsp;&emsp;试求：边际密度函数 $p_{X}(x)$ 和 $p_{Y}(y)$。"
   ]
  },
  {
   "cell_type": "markdown",
   "id": "7c5b4132",
   "metadata": {
    "pycharm": {
     "name": "#%% md\n"
    }
   },
   "source": [
    "**解：**\n",
    "\n",
    "$$\n",
    "p_X(x)= \\begin{cases}\n",
    "2 x, & 0<x<1 \\\\ \n",
    "0, & \\text { 其他 }\n",
    "\\end{cases}\n",
    "$$\n",
    "&emsp;&emsp;与\n",
    "$$\n",
    "p_Y(y)= \\begin{cases}\n",
    "1+y, & -1<y<0 \\\\ \n",
    "1-y, & 0<y<1 \\\\ \n",
    "0, & \\text { 其他 }\n",
    "\\end{cases}\n",
    "$$"
   ]
  },
  {
   "cell_type": "code",
   "execution_count": 21,
   "id": "d401dcd2",
   "metadata": {
    "pycharm": {
     "is_executing": true,
     "name": "#%%\n"
    }
   },
   "outputs": [
    {
     "data": {
      "text/latex": [
       "$\\displaystyle \\begin{cases} x + \\max\\left(- x, x\\right) & \\text{for}\\: x > 0 \\wedge x < 1 \\\\0 & \\text{otherwise} \\end{cases}$"
      ],
      "text/plain": [
       "Piecewise((x + Max(-x, x), (x > 0) & (x < 1)), (0, True))"
      ]
     },
     "execution_count": 21,
     "metadata": {},
     "output_type": "execute_result"
    }
   ],
   "source": [
    "# 求边际密度函数 p_{X}(x)\n",
    "from sympy import *\n",
    "x = symbols('x')\n",
    "y = symbols('y')\n",
    "p_xy = Piecewise((1, And(x > 0, x < 1, y < x, y > -x)), (0, True))\n",
    "integrate(p_xy, (y, -oo, oo))  # 由于0<x<1时候，那么x>-x，即2x"
   ]
  },
  {
   "cell_type": "code",
   "execution_count": 22,
   "id": "ed94f431",
   "metadata": {
    "pycharm": {
     "is_executing": true,
     "name": "#%%\n"
    }
   },
   "outputs": [
    {
     "data": {
      "text/latex": [
       "$\\displaystyle - \\max\\left(0, - y, y\\right) + \\max\\left(1, - y, y\\right)$"
      ],
      "text/plain": [
       "-Max(0, -y, y) + Max(1, -y, y)"
      ]
     },
     "execution_count": 22,
     "metadata": {},
     "output_type": "execute_result"
    }
   ],
   "source": [
    "# 求边际密度函数 p_{Y}(y)\n",
    "from sympy import *\n",
    "x = symbols('x')\n",
    "y = symbols('y')\n",
    "p_xy = Piecewise((1, And(x > 0, x < 1, y < x, y > -x)), (0, True))\n",
    "integrate(p_xy, (x, -oo, oo))  # 由于|y|<x,0<x<1时，因此y肯定在(-1,1)"
   ]
  },
  {
   "cell_type": "markdown",
   "id": "a3a6870c",
   "metadata": {
    "pycharm": {
     "name": "#%% md\n"
    }
   },
   "source": [
    "（2.3）边际分布列\n",
    "\n",
    "&emsp;&emsp;在二维离散随机变量 $(X, Y)$ 的联合分布列 $\\{P(X=x_i, Y=y_j)\\}$ 中， 对 $j$ 求和所得的分布列：\n",
    "$$\n",
    "\\sum_{j=1}^{\\infty} P(X=x_i, Y=y_j) = P(X=x_i), \\quad i=1,2, \\cdots\n",
    "$$\n",
    "被称为 $X$ 的边际分布列。\n",
    "\n",
    "&emsp;&emsp;类似地，对 $i$ 求和所得的分布列：\n",
    "$$\n",
    "\\sum_{i=1}^{\\infty} P(X=x_i, Y=y_j) = P(Y=y_j), \\quad j=1,2, \\cdots\n",
    "$$\n",
    "被称为 $Y$ 的边际分布列。"
   ]
  },
  {
   "cell_type": "markdown",
   "id": "efe8d0bf",
   "metadata": {
    "pycharm": {
     "name": "#%% md\n"
    }
   },
   "source": [
    "【例子】设二维随机变量 $(X, Y)$ 有如下的联合分布列\n",
    "\n",
    "<div>\n",
    "<img src=\"./images/10.png\" width=\"600\" align=\"middle\"/>\n",
    "</div>\n",
    "\n",
    "求$X$，$Y$的边际分布列。"
   ]
  },
  {
   "cell_type": "markdown",
   "id": "4b55c8f8",
   "metadata": {
    "pycharm": {
     "name": "#%% md\n"
    }
   },
   "source": [
    "**解：**\n",
    "\n",
    "<div>\n",
    "<img src=\"./images/11.png\" width=\"600\" align=\"middle\"/>\n",
    "</div>"
   ]
  },
  {
   "cell_type": "markdown",
   "id": "d5cda425",
   "metadata": {
    "pycharm": {
     "name": "#%% md\n"
    }
   },
   "source": [
    "（3）条件分布（非重点，了解）\n",
    "\n",
    "&emsp;&emsp;在概率的计算中，我们知道概率可以分为无条件概率和条件概率，而概率又是对随机事件发生可能性大小的描述；后来，我们使用随机变量描述随机事件，使用分布函数、密度函数、分布列计算随机事件发生的概率，因此条件概率理所当然的有条件分布、条件密度函数、条件分布列，那如何计算条件分布呢？我们可以参照条件概率的计算定义条件分布函数："
   ]
  },
  {
   "cell_type": "markdown",
   "id": "7c4ab510",
   "metadata": {
    "pycharm": {
     "name": "#%% md\n"
    }
   },
   "source": [
    "- 多维离散随机变量的条件分布列：\n",
    "\n",
    "&emsp;&emsp;对一切使 $P(Y=y_j) = p_{\\cdot j} = \\sum_{i=1}^{\\infty} p_{i j} > 0$ 的 $y_{j}$，称\n",
    "$$\n",
    "p_{i \\mid j} = P(X=x_i \\mid Y=y_j) = \\frac{P(X=x_i, Y=y_j)}{P(Y=y_j)} = \\frac{p_{i j}}{p_{\\cdot j}}, \\quad i=1,2, \\cdots\n",
    "$$\n",
    "为给定 $Y=y_j$ 条件下 $X$ 的条件分布列。\n",
    "\n",
    "&emsp;&emsp;同理，对一切使 $P(X=x_i) = p_{i \\cdot} = \\sum_{j=1}^{\\infty} p_{i j} > 0$ 的 $x_{i}$，称\n",
    "$$\n",
    "p_{j \\mid i} = P(Y=y_j \\mid X=x_i) = \\frac{P(X=x_i, Y=y_j)}{P(X=x_i)} = \\frac{p_{i j}}{p_{i \\cdot}}, \\quad j=1,2, \\cdots\n",
    "$$\n",
    "为给定 $X=x_i$ 条件下 $Y$ 的条件分布列。"
   ]
  },
  {
   "cell_type": "markdown",
   "id": "dba58154",
   "metadata": {
    "pycharm": {
     "name": "#%% md\n"
    }
   },
   "source": [
    "【例子】设在一段时间内进人某一商店的顾客人数 $X$ 服从泊松分布 $P(\\lambda)$，每个顾客购买某种物品的概率为 $p$，并且各个顾客是否购买该种物品相互独立，求进入商店的顾客购买这种物品的人数 $Y$ 的分布列。"
   ]
  },
  {
   "cell_type": "markdown",
   "id": "6ba12d23",
   "metadata": {
    "pycharm": {
     "name": "#%% md\n"
    }
   },
   "source": [
    "**解：**\n",
    "\n",
    "&emsp;&emsp;由题意知：\n",
    "$$\n",
    "P(X=m) = \\frac{\\lambda^m}{m !} e^{-\\lambda}, \\quad m = 0,1,2, \\cdots\n",
    "$$\n",
    "&emsp;&emsp;在进人商店的人数 $X=m$ 的条件下，购买某种物品的人数 $Y$ 的条件分布为二项分布 $B(m, p)$, 即\n",
    "$$\n",
    "P(Y=k \\mid X=m) = \\left(\\begin{array}{l}\n",
    "m \\\\\n",
    "k\n",
    "\\end{array}\\right) p^k (1-p)^{m-k}, \\quad k=0,1,2, \\cdots, m\n",
    "$$\n",
    "&emsp;&emsp;由全概率公式有\n",
    "$$\n",
    "\\begin{aligned}\n",
    "P(Y=k) \n",
    "&= \\sum_{m=k}^{\\infty} P(X=m) P(Y=k \\mid X=m) \\\\\n",
    "&= \\sum_{m=k}^{\\infty} \\frac{\\lambda^{m}}{m !} e^{-\\lambda} \\cdot \\frac{m !}{k !(m-k) !} p^k (1-p)^{m-k}\n",
    "\\end{aligned}\n",
    "$$"
   ]
  },
  {
   "cell_type": "markdown",
   "id": "b6078014",
   "metadata": {
    "pycharm": {
     "name": "#%% md\n"
    }
   },
   "source": [
    "&emsp;&emsp;具体的计算化简，我们交给Sympy进行："
   ]
  },
  {
   "cell_type": "code",
   "execution_count": 23,
   "id": "2d239aaf",
   "metadata": {
    "pycharm": {
     "is_executing": true,
     "name": "#%%\n"
    }
   },
   "outputs": [
    {
     "data": {
      "text/latex": [
       "$\\displaystyle \\frac{\\lambda^{k} p^{k} e^{- \\lambda} e^{- \\lambda \\left(p - 1\\right)}}{k!}$"
      ],
      "text/plain": [
       "lamda**k*p**k*exp(-lamda)*exp(-lamda*(p - 1))/factorial(k)"
      ]
     },
     "execution_count": 23,
     "metadata": {},
     "output_type": "execute_result"
    }
   ],
   "source": [
    "# 求际密度函数 p_{Y}(y)\n",
    "from sympy import *\n",
    "from sympy.abc import lamda, m, p, k\n",
    "x = symbols('x')\n",
    "y = symbols('y')\n",
    "f_p = lamda**m / factorial(m) * E**(-lamda) * factorial(m) / \\\n",
    "    (factorial(k) * factorial(m-k)) * p**k * (1-p)**(m-k)\n",
    "summation(f_p, (m, k, +oo))"
   ]
  },
  {
   "cell_type": "markdown",
   "id": "247718a4",
   "metadata": {
    "pycharm": {
     "name": "#%% md\n"
    }
   },
   "source": [
    "- 多维连续随机变量的条件密度函数：\n",
    "\n",
    "&emsp;&emsp;对一切使 $p_y(y) > 0$ 的 $y$, 给定 $Y=y$ 条件下 $X$ 的条件密度函数分别为\n",
    "$$\n",
    "p(x \\mid y) = \\frac{p(x, y)}{p_Y(y)}\n",
    "$$"
   ]
  },
  {
   "cell_type": "markdown",
   "id": "3a99f03e",
   "metadata": {
    "pycharm": {
     "name": "#%% md\n"
    }
   },
   "source": [
    "（3.1）连续场合的全概率公式与贝叶斯公式（拓展）\n",
    "\n",
    "- 全概率公式：\n",
    "$$\n",
    "p_Y(y) = \\int_{-\\infty}^{\\infty} p_X(x) p(y \\mid x) dx \\\\\n",
    "p_{\\chi}(x) = \\int_{-\\infty}^{\\infty} p_Y(y) p(x \\mid y) dy\n",
    "$$\n",
    "- 贝叶斯公式：\n",
    "$$\n",
    "p(x \\mid y) = \\frac{p_X(x) p(y \\mid x)}{\\int_{-\\infty}^{\\infty} p_X(x) p(y \\mid x) dx} \\\\\n",
    "p(y \\mid x) = \\frac{p_Y(y) p(x \\mid y)}{\\int_{-\\infty}^{\\infty} p_Y(y) p(x \\mid y) dy}\n",
    "$$"
   ]
  },
  {
   "cell_type": "markdown",
   "id": "64407870",
   "metadata": {
    "pycharm": {
     "name": "#%% md\n"
    }
   },
   "source": [
    "### 6 多维随机变量的数字特征：期望向量、协方差与协方差矩阵、相关系数与相关系数矩阵、条件期望"
   ]
  },
  {
   "cell_type": "markdown",
   "id": "fc42af41",
   "metadata": {
    "pycharm": {
     "name": "#%% md\n"
    }
   },
   "source": [
    "（1）期望向量：\n",
    "\n",
    "&emsp;&emsp;期望向量是期望在多维随机变量的推广，具体来说：\n",
    "\n",
    "&emsp;&emsp;记 $n$ 维随机向量为 $X = (X_1, X_2, \\cdots, X_n)'$，若其每个分量的数学期望都存在，则称\n",
    "$$\n",
    "E(X)=(E(X_1), E(X_2), \\cdots, E(X_n))'\n",
    "$$\n",
    "为 $n$ 维随机向量 $X$ 的数学期望向量（一般为列向量），简称为 $X$ 的数学期望。至此可以看出，$n$ 维随机向量的数学期望是各分量的数学期望组成的向量。"
   ]
  },
  {
   "cell_type": "markdown",
   "id": "af3d00df",
   "metadata": {
    "pycharm": {
     "name": "#%% md\n"
    }
   },
   "source": [
    "（2）协方差与协方差矩阵：\n",
    "\n",
    "（2.1）协方差：\n",
    "\n",
    "&emsp;&emsp;在多维随机变量中，我们往往需要衡量两个随机变量之间的相互关联的程度，衡量的指标就是协方差。在一维随机变量中，我们使用方差衡量随机变量 $X$ 自身与自身的变化情况，定义方式是：$ \\text{Var}(X) = E[(X-E(X))^2] = E[(X - E(X))(X - E(X))]$。那么理所当然的，衡量随机变量 $X$ 与随机变量 $Y$ 之间的关联程度就是：\n",
    "$$\n",
    "\\text{Cov}(X, Y)=E[(X-E(X))(Y-E(Y))]\n",
    "$$\n",
    "\n",
    "&emsp;&emsp;仔细观察上述定义式，可知：如果两个变量的变化趋势一致，也就是说如果其中一个大于自身的期望值时，另外一个也大于自身的期望值，那么两个变量之间的协方差就是正值；如果两个变量的变化趋势相反，即其中一个变量大于自身的期望值时，另外一个却小于自身的期望值，那么两个变量之间的协方差就是负值。即：\n",
    "- 当 $\\text{Cov}(X, Y) > 0$ 时，称 $X$ 与 $Y$ 正相关，这时两个偏差 $(X-E(X))$ 与 $(Y-E(Y))$ 有**同时增加或同时减少的倾向**。由于 $E(X)$ 与 $E(Y)$ 都是常数，故等价于 $X$ 与 $Y$ 有同时增加或同时减少的倾向，这就是正相关的含义。\n",
    "- 当 $\\text{Cov}(X, Y) < 0$ 时，称 $X$ 与 $Y$ 负相关，这时**有 $X$ 增加而 $Y$ 减少的倾向，或有 $Y$ 增加而 $X$ 减少的倾向**，这就是负相关的含义。\n",
    "- 当 $\\text{Cov}(X, Y) = 0$ 时，称 $X$ 与 $Y$ 不相关，这时可能由两类情况导致：一类是 $X$ 与 $Y$ 的取值毫无关联，另一类是 $X$ 与 $Y$ 间存有某种非线性关系。"
   ]
  },
  {
   "cell_type": "markdown",
   "id": "66002377",
   "metadata": {
    "pycharm": {
     "name": "#%% md\n"
    }
   },
   "source": [
    "&emsp;&emsp;下面，给出协方差的性质：(与方差对比)\n",
    "- $\\text{Cov}(X, Y) = E(X Y) - E(X) E(Y)$\n",
    "- 若随机变量 $X$ 与 $Y$ 相互独立，则 $\\text{Cov}(X, Y) = 0$，反之不成立。\n",
    "- （最重要）对任意二维随机变量 $(X, Y)$，有\n",
    "$$\n",
    "\\text{Var}(X \\pm Y) = \\text{Var}(X) + \\text{Var}(Y) \\pm 2 \\text{Cov}(X, Y)\n",
    "$$\n",
    "\n",
    "&emsp;&emsp;这个性质表明：在 $X$ 与 $Y$ 相关的场合，和的方差不等于方差的和。$X$ 与 $Y$ 的正相关会增加和的方差，负相关会减少和的方差，而在 $X$ 与 $Y$ 不相关的场合，和的方差等于方差的和，即：**若 $X$ 与 $Y$ 不相关**，则 $\\text{Var}(X \\pm Y) = \\text{Var}(X) + \\text{Var}(Y)$。\n",
    "\n",
    "- 协方差 $\\text{Cov}(X, Y)$ 的计算与 $X, Y$ 的次序无关，即\n",
    "$$\n",
    "\\text{Cov}(X, Y) = \\text{Cov}(Y, X) \n",
    "$$\n",
    "- 任意随机变量 $X$ 与常数 $a$ 的协方差为零，即\n",
    "$$\n",
    "\\text{Cov}(X, a) = 0 \n",
    "$$\n",
    "- 对任意常数 $a, b$，有\n",
    "$$\n",
    "\\text{Cov}(a X, b Y) = a b \\text{Cov}(X, Y)\n",
    "$$\n",
    "- 设 $X, Y, Z$ 是任意三个随机变量，则\n",
    "$$\n",
    "\\text{Cov}(X+Y, Z) = \\text{Cov}(X, Z) + \\text{Cov}(Y, Z) \n",
    "$$"
   ]
  },
  {
   "cell_type": "markdown",
   "id": "f216e5e6",
   "metadata": {
    "pycharm": {
     "name": "#%% md\n"
    }
   },
   "source": [
    "【例子】设二维随机变量 $(X, Y)$ 的联合密度函数为\n",
    "$$\n",
    "p(x, y)= \\begin{cases}\n",
    "3 x, & 0<y<x<1 \\\\ \n",
    "0, & \\text { 其他 }\n",
    "\\end{cases}\n",
    "$$\n",
    "试求 $\\text{Cov}(X, Y)$。"
   ]
  },
  {
   "cell_type": "code",
   "execution_count": 24,
   "id": "fb9cbcae",
   "metadata": {
    "pycharm": {
     "is_executing": true,
     "name": "#%%\n"
    }
   },
   "outputs": [
    {
     "data": {
      "text/latex": [
       "$\\displaystyle \\frac{3}{160}$"
      ],
      "text/plain": [
       "3/160"
      ]
     },
     "execution_count": 24,
     "metadata": {},
     "output_type": "execute_result"
    }
   ],
   "source": [
    "# 求协方差\n",
    "from sympy import *\n",
    "from sympy.abc import lamda, m, p, k\n",
    "x = symbols('x')\n",
    "y = symbols('y')\n",
    "p_xy = Piecewise((3*x, And(y > 0, y < x, x < 1)), (0, True))\n",
    "E_xy = integrate(x*y*p_xy, (x, -oo, oo), (y, -oo, oo))\n",
    "E_x = integrate(x*p_xy, (x, -oo, oo), (y, -oo, oo))\n",
    "E_y = integrate(y*p_xy, (x, -oo, oo), (y, -oo, oo))\n",
    "E_xy - E_x*E_y"
   ]
  },
  {
   "cell_type": "markdown",
   "id": "e74ea2f6",
   "metadata": {
    "pycharm": {
     "name": "#%% md\n"
    }
   },
   "source": [
    "【例子】设二维随机变量 $(X, Y)$ 的联合密度函数为\n",
    "$$\n",
    "p(x, y)= \\begin{cases}\n",
    "\\dfrac{1}{3}(x+y), & 0<x<1, 0<y<2 \\\\ \n",
    "0, & \\text { 其他 }\n",
    "\\end{cases}\n",
    "$$\n",
    "试求 $\\text{Var}(2X - 3Y + 8)$。"
   ]
  },
  {
   "cell_type": "markdown",
   "id": "95ed70f5",
   "metadata": {
    "pycharm": {
     "name": "#%% md\n"
    }
   },
   "source": [
    "**解：**\n",
    "\n",
    "$$\n",
    "\\begin{aligned}\n",
    "\\text{Var}(2 X-3 Y+8) \n",
    "&= \\text{Var}(2 X) + \\text{Var}(3 Y) - 2 \\text{Cov}(2 X, 3 Y) \\\\\n",
    "&= 4 \\text{Var}(X) + 9 \\text{Var}(Y) - 12 \\text{Cov}(X, Y)\n",
    "\\end{aligned}\n",
    "$$"
   ]
  },
  {
   "cell_type": "code",
   "execution_count": 25,
   "id": "52a4a80e",
   "metadata": {
    "pycharm": {
     "is_executing": true,
     "name": "#%%\n"
    }
   },
   "outputs": [
    {
     "data": {
      "text/latex": [
       "$\\displaystyle 3.02469135802469$"
      ],
      "text/plain": [
       "3.02469135802469"
      ]
     },
     "execution_count": 25,
     "metadata": {},
     "output_type": "execute_result"
    }
   ],
   "source": [
    "# 方法一：先计算边际密度函数，在计算特征数\n",
    "from sympy import *\n",
    "x = symbols('x')\n",
    "y = symbols('y')\n",
    "p_xy = Piecewise((1/3*(x+y), And(x > 0, x < 1, y > 0, y < 2)), (0, True))\n",
    "p_x = integrate(p_xy, (y, -oo, oo))  # x边际密度函数\n",
    "p_y = integrate(p_xy, (x, -oo, oo))  # y边际密度函数\n",
    "E_x2 = integrate(x**2*p_x, (x, -oo, oo))\n",
    "E_x = integrate(x*p_x, (x, -oo, oo))\n",
    "E_y2 = integrate(y**2*p_y, (y, -oo, oo))\n",
    "E_y = integrate(y*p_y, (y, -oo, oo))\n",
    "E_xy = integrate(x*y*p_xy, (x, -oo, oo), (y, -oo, oo))\n",
    "cov_xy = E_xy - E_x*E_y\n",
    "var_x = E_x2 - E_x**2\n",
    "var_y = E_y2 - E_y**2\n",
    "var_2x_3y_8 = 4*var_x + 9*var_y - 12*cov_xy\n",
    "var_2x_3y_8"
   ]
  },
  {
   "cell_type": "code",
   "execution_count": 26,
   "id": "eb5701d9",
   "metadata": {
    "pycharm": {
     "is_executing": true,
     "name": "#%%\n"
    }
   },
   "outputs": [
    {
     "data": {
      "text/latex": [
       "$\\displaystyle 3.02469135802469$"
      ],
      "text/plain": [
       "3.02469135802469"
      ]
     },
     "execution_count": 26,
     "metadata": {},
     "output_type": "execute_result"
    }
   ],
   "source": [
    "# 方法二：直接通过联合密度函数计算特征数\n",
    "from sympy import *\n",
    "x = symbols('x')\n",
    "y = symbols('y')\n",
    "p_xy = Piecewise((1/3*(x+y), And(x > 0, x < 1, y > 0, y < 2)), (0, True))\n",
    "E_x2 = integrate(x**2*p_xy, (x, -oo, oo), (y, -oo, oo))\n",
    "E_x = integrate(x*p_xy, (x, -oo, oo), (y, -oo, oo))\n",
    "E_y2 = integrate(y**2*p_xy, (x, -oo, oo), (y, -oo, oo))\n",
    "E_y = integrate(y*p_xy, (x, -oo, oo), (y, -oo, oo))\n",
    "E_xy = integrate(x*y*p_xy, (x, -oo, oo), (y, -oo, oo))\n",
    "cov_xy = E_xy - E_x*E_y\n",
    "var_x = E_x2 - E_x**2\n",
    "var_y = E_y2 - E_y**2\n",
    "var_2x_3y_8 = 4*var_x + 9*var_y - 12*cov_xy\n",
    "var_2x_3y_8"
   ]
  },
  {
   "cell_type": "code",
   "execution_count": 27,
   "id": "7165b4b6",
   "metadata": {
    "pycharm": {
     "is_executing": true,
     "name": "#%%\n"
    }
   },
   "outputs": [
    {
     "data": {
      "text/latex": [
       "$\\displaystyle 3.02469135802468$"
      ],
      "text/plain": [
       "3.02469135802468"
      ]
     },
     "execution_count": 27,
     "metadata": {},
     "output_type": "execute_result"
    }
   ],
   "source": [
    "# 方法三：令z=2*x-3*y+8,使用VAR(Z) = E（Z**2）- E（Z）**2\n",
    "from sympy import *\n",
    "x = symbols('x')\n",
    "y = symbols('y')\n",
    "p_xy = Piecewise((1/3*(x+y), And(x > 0, x < 1, y > 0, y < 2)), (0, True))\n",
    "E_z2 = integrate((2*x-3*y+8)**2*p_xy, (x, -oo, oo), (y, -oo, oo))\n",
    "E_z = integrate((2*x-3*y+8)*p_xy, (x, -oo, oo), (y, -oo, oo))\n",
    "E_z2 - E_z**2"
   ]
  },
  {
   "cell_type": "markdown",
   "id": "3437165c",
   "metadata": {
    "pycharm": {
     "name": "#%% md\n"
    }
   },
   "source": [
    "（2.2）协方差矩阵：\n",
    "\n",
    "&emsp;&emsp;假设 $n$ 维随机向量为 $X = (X_1, X_2, \\cdots, X_n)'$ 的期望向量为：\n",
    "$$\n",
    "E(X) = (E(X_1), E(X_2), \\cdots, E(X_n))'\n",
    "$$\n",
    "&emsp;&emsp;那么，我们把\n",
    "$$\n",
    "E[(X - E(X))(X - E(X))'] \n",
    "= \\left(\\begin{array}{cccc}\n",
    "\\text{Var}(X_1) & \\text{Cov}(X_1, X_2) & \\cdots & \\text{Cov}(X_1, X_n) \\\\\n",
    "\\text{Cov}(X_2, X_1) & \\text{Var}(X_2) & \\cdots & \\text{Cov}(X_2, X_n) \\\\\n",
    "\\vdots & \\vdots & & \\vdots \\\\\n",
    "\\text{Cov}(X_n, X_1) & \\text{Cov}(X_n, X_2) & \\cdots & \\text{Var}(X_n)\n",
    "\\end{array}\\right)\n",
    "$$\n",
    "为该随机向量的方差-协方差矩阵，简称协方差阵，记为 $\\text{Cov}(X)$。\n",
    "\n",
    "注意：$n$ 维随机向量的协方差矩阵 $\\text{Cov}(X) = (\\text{Cov}(X_i, X_j))_{n \\times n}$ 是一个**对称的非负定矩阵**。"
   ]
  },
  {
   "cell_type": "markdown",
   "id": "c036ad0b",
   "metadata": {
    "pycharm": {
     "name": "#%% md\n"
    }
   },
   "source": [
    "【例子】设二维随机变量 $(X, Y)$ 的联合密度函数为\n",
    "$$\n",
    "p(x, y)= \\begin{cases}\n",
    "\\dfrac{1}{3}(x+y), & 0<x<1,0<y<2 \\\\ \n",
    "0, & \\text { 其他 }\n",
    "\\end{cases}\n",
    "$$\n",
    "试求 $(x, y)$ 的协方差矩阵。"
   ]
  },
  {
   "cell_type": "code",
   "execution_count": 28,
   "id": "34538b3f",
   "metadata": {
    "pycharm": {
     "is_executing": true,
     "name": "#%%\n"
    }
   },
   "outputs": [
    {
     "data": {
      "text/latex": [
       "$\\displaystyle \\left[\\begin{matrix}0.0802469135802468 & -0.0123456790123456\\\\-0.0123456790123456 & 0.283950617283951\\end{matrix}\\right]$"
      ],
      "text/plain": [
       "Matrix([\n",
       "[ 0.0802469135802468, -0.0123456790123456],\n",
       "[-0.0123456790123456,   0.283950617283951]])"
      ]
     },
     "execution_count": 28,
     "metadata": {},
     "output_type": "execute_result"
    }
   ],
   "source": [
    "# 求协方差矩阵：1.求两两变量的协方差和各自的方差；2. 组合成矩阵\n",
    "from sympy import *\n",
    "x = symbols('x')\n",
    "y = symbols('y')\n",
    "p_xy = Piecewise((1/3*(x+y), And(x > 0, x < 1, y > 0, y < 2)), (0, True))\n",
    "p_x = integrate(p_xy, (y, -oo, oo))  # x边际密度函数\n",
    "p_y = integrate(p_xy, (x, -oo, oo))  # y边际密度函数\n",
    "E_x2 = integrate(x**2*p_x, (x, -oo, oo))\n",
    "E_x = integrate(x*p_x, (x, -oo, oo))\n",
    "E_y2 = integrate(y**2*p_y, (y, -oo, oo))\n",
    "E_y = integrate(y*p_y, (y, -oo, oo))\n",
    "E_xy = integrate(x*y*p_xy, (x, -oo, oo), (y, -oo, oo))\n",
    "cov_xy = E_xy - E_x*E_y\n",
    "var_x = E_x2 - E_x**2\n",
    "var_y = E_y2 - E_y**2\n",
    "Matrix([[var_x, cov_xy], [cov_xy, var_y]])"
   ]
  },
  {
   "cell_type": "markdown",
   "id": "868a330e",
   "metadata": {
    "pycharm": {
     "name": "#%% md\n"
    }
   },
   "source": [
    "（3）相关系数与相关系数矩阵：\n",
    "\n",
    "（3.1）相关系数：\n",
    "\n",
    "&emsp;&emsp;相关系数也是衡量两个随机变量之间的相关关系的特征数，前面所说的协方差也是衡量这个随机变量的相关性大小的，这两者有什么区别呢？协方差并没有排除量纲对数值大小的影响，这样的缺点就是两个协方差之间无法比较相关性的大小。比如：$X$ 和 $Y$ 与 $Z$ 的相关性，如果使用协方差去衡量，那么就不能通过比较 $Cov(X,Z)$ 与 $Cov(Y,Z)$ 的大小来观察 $X$ 和 $Y$ 哪个与 $Z$ 最相关。相关系数就是去除量纲影响后的协方差，具体来说：\n",
    "\n",
    "&emsp;&emsp;设 $(X, Y)$ 是一个二维随机变量，且 $\\text{Var}(X) = \\sigma_X^2 > 0, \\text{Var}(Y) = \\sigma_Y^2 > 0$\n",
    "则称\n",
    "$$\n",
    "\\text{Corr}(X, Y) = \\frac{\\text{Cov}(X, Y)}{\\sqrt{\\text{Var}(X)} \\sqrt{\\text{Var}(Y)}} = \\frac{\\text{Cov}(X, Y)}{\\sigma_X \\sigma_Y}\n",
    "$$\n",
    "为 $X$ 与 $Y$ 的 **(线性)** 相关系数。"
   ]
  },
  {
   "cell_type": "markdown",
   "id": "f6dc2ca6",
   "metadata": {
    "pycharm": {
     "name": "#%% md\n"
    }
   },
   "source": [
    "相关系数的性质：\n",
    "\n",
    "- $-1 \\leqslant \\text{Corr}(X, Y) \\leqslant 1$ 或 $|\\text{Corr}(X, Y)| \\leqslant 1$。\n",
    "- $\\text{Corr}(X, Y) = \\pm 1$ 的充要条件是 $X$ 与 $Y$ 间几乎处处有线性关系，即存在 $a(\\neq 0)$ 与 $b$，使得\n",
    "$$\n",
    "P(Y = a X + b) = 1 \n",
    "$$\n",
    "- 相关系数 $\\text{Corr}(X, Y)$ 刻画了 $X$ 与 $Y$ 之间的线性关系强弱，因此也常称其为“线性相关系数”。\n",
    "- 若 $\\text{Corr}(X, Y) = 0$，则称 $X$ 与 $Y$ 不相关。不相关是指 $X$ 与 $Y$ 之间没有线性关系，但 $X$ 与 $Y$ 之间可能有其他的函数关系，譬如平方关系、对数关系等。\n",
    "- 若 $\\text{Corr}(X, Y) = 1$，则称 $X$ 与 $Y$ 完全正相关；若 $\\text{Corr}(X, Y) = -1$，则称 $X$ 与 $Y$ 完全负相关。\n",
    "- 若 $0 < |\\text{Corr}(X, Y)| < 1$，则称 $X$ 与 $Y$ 有“一定程度”的线性关系。$|\\text{Corr}(X, Y)|$ 越接近于1，则线性相关程度越高；$|\\text{Corr}(X, Y)|$ 越接近于0，则线性相关程度越低。而协方差看不出这一点，若协方差很小，而其两个标准差 $\\sigma_{X}$ 和 $\\sigma_{Y}$ 也很小， 则其比值就不一定很小。"
   ]
  },
  {
   "cell_type": "markdown",
   "id": "b29f2d83",
   "metadata": {
    "pycharm": {
     "name": "#%% md\n"
    }
   },
   "source": [
    "（3.2）相关系数矩阵：\n",
    "\n",
    "&emsp;&emsp;类似于协方差矩阵，相关系数矩阵就是把协方差矩阵中每个元素替换成相关系数，具体来说就是：\n",
    "$$\n",
    "\\begin{aligned}\n",
    "\\text{Corr}(X, Y)\n",
    "&= \\frac{\\text{Cov}(X, Y)}{\\sqrt{\\text{Var}(X)} \\sqrt{\\text{Var}(Y)}} \\\\\n",
    "&= \\frac{\\text{Cov}(X, Y)}{\\sigma_{X} \\sigma_{Y}} \\\\\n",
    "&= \\left(\\begin{array}{cccc}\n",
    "1 & \\text{Corr}(X_1, X_2) & \\cdots & \\text{Corr}(X_1, X_n) \\\\\n",
    "\\text{Corr}(X_2, X_1) & 1 & \\cdots & \\text{Corr}(X_2, X_n) \\\\\n",
    "\\vdots & \\vdots & & \\vdots \\\\\n",
    "\\text{Corr}(X_n, X_1) & \\text{Corr}(X_n, X_2) & \\cdots & 1\n",
    "\\end{array}\\right)\n",
    "\\end{aligned}\n",
    "$$"
   ]
  },
  {
   "cell_type": "markdown",
   "id": "bd03b8f4",
   "metadata": {
    "pycharm": {
     "name": "#%% md\n"
    }
   },
   "source": [
    "【例子】设二维随机变量 $(X, Y)$ 的联合密度函数为\n",
    "$$\n",
    "p(x, y)= \\begin{cases}\n",
    "\\dfrac{1}{3}(x+y), & 0<x<1,0<y<2 \\\\ \n",
    "0, & \\text { 其他 }\n",
    "\\end{cases}\n",
    "$$\n",
    "试求 $(x, y)$ 的相关系数矩阵。"
   ]
  },
  {
   "cell_type": "code",
   "execution_count": 29,
   "id": "5ff86642",
   "metadata": {
    "pycharm": {
     "is_executing": true,
     "name": "#%%\n"
    }
   },
   "outputs": [
    {
     "data": {
      "text/latex": [
       "$\\displaystyle \\left[\\begin{matrix}1 & -0.0817860820109527\\\\-0.0817860820109527 & 1\\end{matrix}\\right]$"
      ],
      "text/plain": [
       "Matrix([\n",
       "[                  1, -0.0817860820109527],\n",
       "[-0.0817860820109527,                   1]])"
      ]
     },
     "execution_count": 29,
     "metadata": {},
     "output_type": "execute_result"
    }
   ],
   "source": [
    "# 求相关系数矩阵：1.求两两变量的相关系数；2. 组合成矩阵\n",
    "from sympy import *\n",
    "x = symbols('x')\n",
    "y = symbols('y')\n",
    "p_xy = Piecewise((1/3*(x+y), And(x > 0, x < 1, y > 0, y < 2)), (0, True))\n",
    "p_x = integrate(p_xy, (y, -oo, oo))  # x边际密度函数\n",
    "p_y = integrate(p_xy, (x, -oo, oo))  # y边际密度函数\n",
    "E_x2 = integrate(x**2*p_x, (x, -oo, oo))\n",
    "E_x = integrate(x*p_x, (x, -oo, oo))\n",
    "E_y2 = integrate(y**2*p_y, (y, -oo, oo))\n",
    "E_y = integrate(y*p_y, (y, -oo, oo))\n",
    "E_xy = integrate(x*y*p_xy, (x, -oo, oo), (y, -oo, oo))\n",
    "cov_xy = E_xy - E_x*E_y\n",
    "var_x = E_x2 - E_x**2\n",
    "var_y = E_y2 - E_y**2\n",
    "corr_xy = cov_xy/(sqrt(var_x*var_y))\n",
    "Matrix([[1, corr_xy], [corr_xy, 1]])"
   ]
  },
  {
   "cell_type": "markdown",
   "id": "899a0dee",
   "metadata": {
    "pycharm": {
     "name": "#%% md\n"
    }
   },
   "source": [
    "### 7 随机变量序列的收敛状态：依概率收敛、依分布收敛"
   ]
  },
  {
   "cell_type": "markdown",
   "id": "eefe7d67",
   "metadata": {
    "pycharm": {
     "name": "#%% md\n"
    }
   },
   "source": [
    "&emsp;&emsp;在之前的学习中，我们学习了概率论的基本概念、一维随机变量及其相关的概率密度函数、分布函数、分布列以及数字特征、多维随机变量的联合密度函数、联合分布函数、联合分布列以及数字特征等，下面来总结下这些概念之间的关系：\n",
    "\n",
    "<div>\n",
    "<img src=\"./images/12.svg\" width=\"800\" align=\"middle\"/>\n",
    "</div>"
   ]
  },
  {
   "cell_type": "markdown",
   "id": "9667dffa",
   "metadata": {
    "pycharm": {
     "name": "#%% md\n"
    }
   },
   "source": [
    "- 在随机现象和概率的讨论中，我们主要学习了**样本点**与**样本空间**，并由样本点的集合构成**随机事件**，主要目的是计算某个随机事件的**概率**，其中有一类特殊的概率叫**条件概率**，由条件概率延伸出的三大公式：**乘法公式**、**全概率公式**以及**贝叶斯公式**。\n",
    "- 在一维随机变量的讨论中，我们为什么会设计随机变量呢？是因为我们想用数理的形式研究这些随机事件及其概率，用文字表示的随机事件多麻烦，而且数理形式还能使用高等数学的理论研究，如：极限、微分学、积分学等。**因此，随机变量诞生的目的其实就是为了将随机事件使用数轴范围表示出来，那随机变量每一个取值其实就是一个样本点，随机变量的定义域就是样本空间**。接下来，我们希望计算由随机变量表示的随机事件的概率，因为这才是我们的主要目的。因此，可以从两个角度去计算由随机变量表示的随机事件的概率，那就是使用概率直接计算的**分布函数**与间接使用密度计算的**密度函数/分布列**。在实际的现实应用上，记住一个函数或者使用计算机存储一个函数的各个取值是很困难的，而且有时候我们仅仅只需要知道随机变量的某个侧面的信息，因此**数字特征**就是这么诞生的。\n",
    "- 在多维随机变量（维度是有限的）的讨论中，有时候影响某件事概率的因素会有很多个，单一随机变量不足以表达完整信息，需要使用多个随机变量才能表达更多的信息，因此根据线性代数的理论，将一维推广至多维可以使用向量/矩阵表达，**多维随机变量/随机向量**就此诞生。同时，我们需要将一维随机变量的所有理论推广至多维，因此**联合密度函数、联合分布列与联合分布函数**就此出现。多维随机变量的数字特征也由原来的单一的一个随机变量的数字特征推广至两个变量之间的数字特征，如**协方差、相关系数**等等。"
   ]
  },
  {
   "cell_type": "markdown",
   "id": "2ad7efcc",
   "metadata": {
    "pycharm": {
     "name": "#%% md\n"
    }
   },
   "source": [
    "&emsp;&emsp;因此，我们在这里更进一步，将随机变量的维度推广至无穷维，想要研究随机变量的序列在数量 $n \\rightarrow \\infty$会怎么变化，会不会出现什么规律。在高等数学中，我们是使用“极限”这个工具研究 $n \\rightarrow \\infty$ 的情况，那么概率论借用了这个理论，也是使用“极限”研究随机变量序列在数量 $n \\rightarrow \\infty$ 时的变化规律。\n",
    "\n",
    "（1）依概率收敛：\n",
    "\n",
    "&emsp;&emsp;在前面的学习中，我们有一个观点是：频率可以近似地看成概率，这个观点十分直观，但是并没有告诉我们频率什么时候可以近似概率。事实上，频率是概率的**稳定值**，又或者说频率**稳定于**概率。下面，我们通过几个例子来看看什么是“稳定”：\n",
    "\n",
    "&emsp;&emsp;设有一大批产品，其不合格品率为 $p$。现一个接一个地检查产品的合格性，记前 $n$ 次检查发现 $S_n$ 个不合格品, 而 $v_n = \\dfrac{S_n}{n} $ 为不合格品出现的频率。当检查继续下去，我们就发现频率序列 $\\{v_n\\}$ 有如下两个现象：\n",
    "- 频率 $v_n$ 对概率 $p$ 的绝对偏差 $|v_n - p|$ 将随 $n$ 增大而呈现逐渐减小的趋势，但无法说它收玫于零。\n",
    "\n",
    "- 由于频率的随机性，绝对偏差 $|v_n - p|$ 时大时小。虽然我们无法排除大偏差发生的可能性，**但随着 $n$ 不断增大，大偏差发生的可能性会越来越小**。这是一种新的极限概念。\n",
    "\n",
    "&emsp;&emsp;事实上，之前我们也做过这个实验，下面来回顾下："
   ]
  },
  {
   "cell_type": "markdown",
   "id": "68906f68",
   "metadata": {
    "pycharm": {
     "name": "#%% md\n"
    }
   },
   "source": [
    "【例子】频率近似概率："
   ]
  },
  {
   "cell_type": "code",
   "execution_count": 30,
   "id": "761adfe8",
   "metadata": {
    "pycharm": {
     "is_executing": true,
     "name": "#%%\n"
    }
   },
   "outputs": [
    {
     "data": {
      "image/png": "[encoded data removed]",
      "text/plain": [
       "<Figure size 432x288 with 1 Axes>"
      ]
     },
     "metadata": {},
     "output_type": "display_data"
    },
    {
     "data": {
      "image/png": "[encoded data removed]",
      "text/plain": [
       "<Figure size 432x288 with 1 Axes>"
      ]
     },
     "metadata": {},
     "output_type": "display_data"
    },
    {
     "data": {
      "image/png": "[encoded data removed]",
      "text/plain": [
       "<Figure size 432x288 with 1 Axes>"
      ]
     },
     "metadata": {},
     "output_type": "display_data"
    },
    {
     "data": {
      "image/png": "[encoded data removed]",
      "text/plain": [
       "<Figure size 432x288 with 1 Axes>"
      ]
     },
     "metadata": {},
     "output_type": "display_data"
    }
   ],
   "source": [
    "# 模拟抛硬币正面的概率是否会越来越接近0.5\n",
    "import random\n",
    "\n",
    "\n",
    "def Simulate_coin(test_num):\n",
    "    random.seed(100)\n",
    "    coin_list = [1 if (random.random() >= 0.5)\n",
    "                 else 0 for i in range(test_num)]   # 模拟试验结果\n",
    "    coin_frequence = np.cumsum(coin_list) / \\\n",
    "        (np.arange(len(coin_list))+1)  # 计算正面为1的频率\n",
    "    plt.figure(figsize=(6, 4))\n",
    "    plt.plot(np.arange(len(coin_list))+1, coin_frequence, c='blue', alpha=0.7)\n",
    "    plt.axhline(0.5, linestyle='--', c='red', alpha=0.5)\n",
    "    plt.xlabel(\"test_index\")\n",
    "    plt.ylabel(\"frequence\")\n",
    "    plt.title(str(test_num)+\" times\")\n",
    "    plt.show()\n",
    "\n",
    "\n",
    "Simulate_coin(test_num=500)\n",
    "Simulate_coin(test_num=1000)\n",
    "Simulate_coin(test_num=5000)\n",
    "Simulate_coin(test_num=10000)"
   ]
  },
  {
   "cell_type": "markdown",
   "id": "fbac2fd7",
   "metadata": {
    "pycharm": {
     "name": "#%% md\n"
    }
   },
   "source": [
    "&emsp;&emsp;下面，我们使用准确的数学语言总结以上的案例：对任意给定的 $\\varepsilon > 0$，事件 $\\{|v_n - p| \\geqslant \\varepsilon \\}$ 出现了，就认为大偏差发生了。而大偏差发生的可能性越来越小，相当于\n",
    "$$\n",
    "P(|v_n - p| \\geqslant \\varepsilon) \\rightarrow 0,\\quad n \\rightarrow \\infty \n",
    "$$\n",
    "&emsp;&emsp;这时，就可称频率序列 $\\{v_n\\}$ 依概率收敛。这就是“频率稳定于概率”的含义。"
   ]
  },
  {
   "cell_type": "markdown",
   "id": "6e2de62c",
   "metadata": {
    "pycharm": {
     "name": "#%% md\n"
    }
   },
   "source": [
    "&emsp;&emsp;有了以上的案例铺垫，以概率收敛就很好理解了，具体来说：\n",
    "\n",
    "&emsp;&emsp;设 $\\{X_n\\}$ 为一随机变量序列，$X$ 为一随机变量，如果对任意的 $\\varepsilon > 0$，有\n",
    "$$\n",
    "P(|X_n - X| \\geqslant \\varepsilon) \\rightarrow 0, \\quad n \\rightarrow \\infty\n",
    "$$\n",
    "则称序列 $\\{X_n\\}$ 依概率收敛于 $X$，记作 $X_n \\stackrel{P}{\\longrightarrow} X$。"
   ]
  },
  {
   "cell_type": "markdown",
   "id": "e85aba89",
   "metadata": {
    "pycharm": {
     "name": "#%% md\n"
    }
   },
   "source": [
    "&emsp;&emsp;依概率收敛的含义是：$X_n$ 对 $X$ 的绝对偏差不小于任一给定量的可能性将随着 $n$ 增大而愈来愈小。或者说，绝对偏差 $|X_n - X|$ 小于任一给定量的可能性将随着 $n$ 增大而愈来愈接近于 1，即 $P(|X_n-X| \\geqslant \\varepsilon) \\rightarrow 0, \\quad n \\rightarrow \\infty$ 等价于\n",
    "$$\n",
    "P(|X_n - X| < \\varepsilon) \\rightarrow 1, \\quad n \\rightarrow \\infty \n",
    "$$\n",
    "&emsp;&emsp;特别当 $X$ 为退化分布时，即 $P(X=c) = 1$（像概率 $p$ 就是一个案例，频率不断趋近于一个常数$p$，这个$p$就是概率），则称序列 $\\{X_n\\}$ 依概率收敛于 $c$，即 $X_n \\stackrel{P}{\\longrightarrow} c$。"
   ]
  },
  {
   "cell_type": "markdown",
   "id": "987457f5",
   "metadata": {
    "pycharm": {
     "name": "#%% md\n"
    }
   },
   "source": [
    "（2）依分布收敛：\n",
    "\n",
    "&emsp;&emsp;刚刚给大家介绍的依概率收敛，描述的是当 $n \\rightarrow \\infty$ 时，随机变量序列越来越接近（趋近于）某个确定的随机变量的概率接近于1。同时，我们也知道随机变量的分布函数全面描述了随机变量的规律，因此会不会随机变量的分布函数序列 $\\{F_n(x) \\}$ 会收敛到一个极限分布函数 $F(x)$ 呢？而依分布收敛描述的就是随机变量的分布函数序列 $\\{F_n(x) \\}$ 如何收敛到极限分布函数 $F(x)$ 的规律，具体来说：\n",
    "\n",
    "&emsp;&emsp;设随机变量 $X, X_1, X_2, \\cdots$ 的分布函数分别为 $F(x), F_1(x), F_2(x), \\cdots$。 若对 $F(x)$ 的任一**连续点** $x$，都有\n",
    "$$\n",
    "\\lim _{n \\rightarrow \\infty} F_{n}(x) = F(x)\n",
    "$$\n",
    "则称 $\\{F_{n}(x)\\}$ **弱收敛**于 $F(x)$，记作\n",
    "$$\n",
    "F_{n}(x) \\stackrel{W}{\\longrightarrow} F(x) \n",
    "$$\n",
    "也称相应的随机变量序列 $\\{X_n\\}$ 按分布收敛于 $X$，记作\n",
    "$$\n",
    "X_{n} \\stackrel{L}{\\longrightarrow} X \n",
    "$$\n",
    "\n",
    "&emsp;&emsp;在以上的定义中，我们看到一个词，叫弱收敛，为什么叫这个呢？事实上，依概率收敛是一种比依分布收敛更强的收敛性，也就是说依概率收敛可以推出依分布收敛。"
   ]
  },
  {
   "cell_type": "markdown",
   "id": "eb7961e4",
   "metadata": {
    "pycharm": {
     "name": "#%% md\n"
    }
   },
   "source": [
    "### 8 大数定律"
   ]
  },
  {
   "cell_type": "markdown",
   "id": "ae84cf9b",
   "metadata": {
    "pycharm": {
     "name": "#%% md\n"
    }
   },
   "source": [
    "&emsp;&emsp;大数定律由雅各布·伯努利（1654－1705）提出，他是一位瑞士数学家，也是概率论的重要奠基人，伯努利大数定理以严密的数学形式论证了频率的稳定性。大数定律讲的是：当随机事件发生的次数足够多时，随机事件发生的频率 $v_n$ 趋近于预期的概率 $p$。可以简单理解为样本数量越多，频率越接近于期望值（概率值），这个解释是不是很像依概率收敛的概念，其实大数定律的确是依概率收敛的案例。大数定律的条件是独立重复事件与重复次数足够多。\n",
    "\n",
    "&emsp;&emsp;与“大数定律”对应的，就是“小数定律”，小数定律讲的是：如果试验次数比较小，那么在试验中什么样的极端情况都有可能出现。当我们在判断随机事件发生的概率时，往往会违背大数定律，而不经意地使用“小数定律”，会觉得典型事件肯定会发生，往往会犯以偏概全的错误。黑天鹅事件往往就是指这种情况，即便一个东西概率很低，只要次数足够多，就一定会发生（金融危机），而如果这个东西会造成巨大的影响，我们不得不事先做好准备，避免遭受无法承受的打击。换句话来说，我们也会认为在单次试验中，小概率事件往往不发生，这个结论是假设检验的根本！"
   ]
  },
  {
   "cell_type": "markdown",
   "id": "d96e8db0",
   "metadata": {
    "pycharm": {
     "name": "#%% md\n"
    }
   },
   "source": [
    "&emsp;&emsp;下面，我们来介绍大数定律的两种表达，这两种表达都对后面的数理统计有十分重要的作用。\n",
    "\n",
    "- 伯努利大数定律：\n",
    "\n",
    "&emsp;&emsp;设 $S_{n}$ 为 $n$ 重伯努利试验（结果只有0-1）中事件 $A$ 发生的次数，$\\dfrac{S_{n}}{n}$就是事件 $A$ 发生的频率，$p$ 为每次试验中 $A$ 出现的概率，则对任意的 $\\varepsilon > 0$，有\n",
    "$$\n",
    "\\lim _{n \\rightarrow \\infty} P\\left(\\left|\\frac{S_n}{n} - p \\right| < \\varepsilon \\right) = 1 \n",
    "$$\n",
    "&emsp;&emsp;伯努利大数定律的道理是频率稳定于概率，已经在依概率收敛里讲的很清楚了，这里不多加阐述。下面，我们利用这个结论，看看如何使用伯努利大数定律计算定积分的值，这个方法叫做蒙特卡洛模拟法（随机投点法）。"
   ]
  },
  {
   "cell_type": "markdown",
   "id": "1813932d",
   "metadata": {
    "pycharm": {
     "name": "#%% md\n"
    }
   },
   "source": [
    "【例子】使用蒙特卡洛求定积分\n",
    "\n",
    "&emsp;&emsp;设 $0 \\leqslant f(x) \\leqslant 1$, 求 $f(x)$ 在 区间 $[0,1]$ 上的积分值\n",
    "$$\n",
    "J = \\int_0^1 f(x) dx \n",
    "$$\n",
    "&emsp;&emsp;方法就是：我们在正方形 $\\{0 \\leqslant x \\leqslant 1,0 \\leqslant y \\leqslant 1\\}$ 内均匀地投点 $(x_i,y_i)$，投 $n$ 个点，点越多越好。如果某个点 $y_i \\le f(x_i)$，则认为事件发生，我们计算满足 $y_i \\le f(x_i)$ 点的个数 $S_n$，使用大数定律：频率稳定于概率，即：$\\dfrac{S_n}{n}$ 就是积分值。"
   ]
  },
  {
   "cell_type": "code",
   "execution_count": 31,
   "id": "490bd0d8",
   "metadata": {
    "pycharm": {
     "is_executing": true,
     "name": "#%%\n"
    }
   },
   "outputs": [
    {
     "data": {
      "image/png": "[encoded data removed]",
      "text/plain": [
       "<Figure size 432x288 with 1 Axes>"
      ]
     },
     "metadata": {},
     "output_type": "display_data"
    }
   ],
   "source": [
    "# 蒙特卡洛积分计算的原理：\n",
    "x_arr = np.linspace(0, 1, 1000)\n",
    "x_n = uniform.rvs(size=100)  # 随机选择n个x随机数\n",
    "y_n = uniform.rvs(size=100)  # 随机选择n个y随机数\n",
    "plt.stackplot(x_arr, np.square(x_arr), alpha=0.5, color=\"skyblue\")  # 堆积面积图\n",
    "plt.scatter(x_n, y_n)\n",
    "plt.text(1.0, 1.0, r'$y=x^2$')\n",
    "plt.show()"
   ]
  },
  {
   "cell_type": "code",
   "execution_count": 32,
   "id": "637d0022",
   "metadata": {
    "pycharm": {
     "is_executing": true,
     "name": "#%%\n"
    }
   },
   "outputs": [
    {
     "name": "stdout",
     "output_type": "stream",
     "text": [
      "y=x**2在[0,1]的定积分为： 1/3\n",
      "模拟10次的定积分为： 0.4\n",
      "模拟100次的定积分为： 0.27\n",
      "模拟1000次的定积分为： 0.316\n",
      "模拟10000次的定积分为： 0.3285\n",
      "模拟100000次的定积分为： 0.33496\n",
      "模拟1000000次的定积分为： 0.333923\n"
     ]
    }
   ],
   "source": [
    "# 使用蒙特卡洛法计算y=x^2在【0，1】上的定积分\n",
    "from scipy.stats import uniform\n",
    "\n",
    "\n",
    "def MonteCarloRandom(n):\n",
    "    x_n = uniform.rvs(size=n)  # 随机选择n个x随机数\n",
    "    y_n = uniform.rvs(size=n)  # 随机选择n个y随机数\n",
    "    f_x = np.square(x_n)    # 函数值f_x = x**2\n",
    "    binory_y = [1.0 if y_n[i] < f_x[i]\n",
    "                else 0 for i in range(n)]    # 如果y<x**2则为1，否则为0\n",
    "    J = np.sum(binory_y) / n\n",
    "    return J\n",
    "\n",
    "\n",
    "print(\"y=x**2在[0,1]的定积分为：\", integrate(x**2, (x, 0, 1)))\n",
    "print(\"模拟10次的定积分为：\", MonteCarloRandom(10))\n",
    "print(\"模拟100次的定积分为：\", MonteCarloRandom(100))\n",
    "print(\"模拟1000次的定积分为：\", MonteCarloRandom(1000))\n",
    "print(\"模拟10000次的定积分为：\", MonteCarloRandom(10000))\n",
    "print(\"模拟100000次的定积分为：\", MonteCarloRandom(100000))\n",
    "print(\"模拟1000000次的定积分为：\", MonteCarloRandom(1000000))"
   ]
  },
  {
   "cell_type": "markdown",
   "id": "40c4e656",
   "metadata": {
    "pycharm": {
     "name": "#%% md\n"
    }
   },
   "source": [
    "- 辛钦大数定律：\n",
    "\n",
    "&emsp;&emsp;设 $\\{X_n\\}$ 为一个**独立同分布**的随机变量序列，若 $X_i$ 的数学期望存在，则 $\\{X_n\\}$ 服从大数定律，即对任意的 $\\varepsilon > 0$，$\\displaystyle \\lim _{n \\rightarrow \\infty} P\\left(\\left|\\frac{1}{n} \\sum_{i=1}^n X_i - \\frac{1}{n} \\sum_{i=1}^n E(X_i) \\right|<\\varepsilon \\right) = 1$ 成立。\n",
    "\n",
    "&emsp;&emsp;对于独立同分布且具有相同均值 $\\mu$ 的随机变量$X$，$X_1, X_2, \\cdots, X_n$，当 $n$ 很大时，它们的算术平均数 $\\displaystyle \\frac{1}{n} \\sum_{i=1}^n X_i$ 很接近于 $\\mu$。也就是说，可以使用样本的均值去估计总体均值（这里不明白没有关系，后面讲到数理统计的时候会重申这个概念）。"
   ]
  },
  {
   "cell_type": "markdown",
   "id": "8590de24",
   "metadata": {
    "pycharm": {
     "name": "#%% md\n"
    }
   },
   "source": [
    "### 9 中心极限定理"
   ]
  },
  {
   "cell_type": "markdown",
   "id": "4d6be9c6",
   "metadata": {
    "pycharm": {
     "name": "#%% md\n"
    }
   },
   "source": [
    "&emsp;&emsp;大数定律讨论的是在什么条件下（独立同分布且数学期望存在），随机变量序列的算术平均**依概率收敛**到其均值的算术平均。下面，我们来讨论什么情况下，独立随机变量的和 $\\displaystyle Y_n = \\sum_{i=1}^n X_i$ 的分布函数会依分布收敛于正态分布。我们使用一个小例子来说明什么是中心极限定理："
   ]
  },
  {
   "cell_type": "markdown",
   "id": "a3e84863",
   "metadata": {
    "pycharm": {
     "name": "#%% md\n"
    }
   },
   "source": [
    "&emsp;&emsp;我们想研究一个复杂工艺产生的产品误差的分布情况，诞生该产品的工艺中，有许多方面都能产生误差，如：每个流程中所需的生产设备的精度误差、材料实际成分与理论成分的差异带来的误差、工人当天的专注程度、测量误差等等。由于这些因素非常多，每个影响产品误差的因素对误差的影响都十分微笑，而且这些因素的出现也十分随机，数值有正有负。现在假设每一种因素都假设为一个随机变量 $X_i$，先按照直觉假设 $X_i$ 服从 $N(0,\\sigma_i^2)$，零均值假设是十分合理的，因为这些因素的数值有正有负，假设每一个因素的随机变量的方差 $\\sigma_i^2$ 是随机的。接下来，我们希望研究的是产品的误差 $Y_n = X_1 + X_2 + \\cdots + X_n$，当 $n$ 很大时是什么分布？"
   ]
  },
  {
   "cell_type": "code",
   "execution_count": 33,
   "id": "7b4e62e7",
   "metadata": {
    "pycharm": {
     "is_executing": true,
     "name": "#%%\n"
    }
   },
   "outputs": [
    {
     "data": {
      "image/png": "[encoded data removed]",
      "text/plain": [
       "<Figure size 432x288 with 1 Axes>"
      ]
     },
     "metadata": {},
     "output_type": "display_data"
    },
    {
     "data": {
      "image/png": "[encoded data removed]",
      "text/plain": [
       "<Figure size 432x288 with 1 Axes>"
      ]
     },
     "metadata": {},
     "output_type": "display_data"
    },
    {
     "data": {
      "image/png": "[encoded data removed]",
      "text/plain": [
       "<Figure size 432x288 with 1 Axes>"
      ]
     },
     "metadata": {},
     "output_type": "display_data"
    },
    {
     "data": {
      "image/png": "[encoded data removed]",
      "text/plain": [
       "<Figure size 432x288 with 1 Axes>"
      ]
     },
     "metadata": {},
     "output_type": "display_data"
    },
    {
     "data": {
      "image/png": "[encoded data removed]",
      "text/plain": [
       "<Figure size 432x288 with 1 Axes>"
      ]
     },
     "metadata": {},
     "output_type": "display_data"
    }
   ],
   "source": [
    "# 模拟n个正态分布的和的分布\n",
    "from scipy.stats import norm\n",
    "\n",
    "\n",
    "def Random_Sum_F(n):\n",
    "    sample_nums = 10000\n",
    "    random_arr = np.zeros(sample_nums)\n",
    "    for i in range(n):\n",
    "        mu = 0\n",
    "        sigma2 = np.random.rand()\n",
    "        err_arr = norm.rvs(size=sample_nums)\n",
    "        random_arr += err_arr\n",
    "    plt.hist(random_arr)\n",
    "    plt.title(\"n = \"+str(n))\n",
    "    plt.xlabel(\"x\")\n",
    "    plt.ylabel(\"p (x)\")\n",
    "    plt.show()\n",
    "\n",
    "\n",
    "Random_Sum_F(2)\n",
    "Random_Sum_F(10)\n",
    "Random_Sum_F(100)\n",
    "Random_Sum_F(1000)\n",
    "Random_Sum_F(10000)"
   ]
  },
  {
   "cell_type": "markdown",
   "id": "043a7995",
   "metadata": {
    "pycharm": {
     "name": "#%% md\n"
    }
   },
   "source": [
    "&emsp;&emsp;有可能你会觉得，$n$ 个正态分布的和肯定还是正态分布，那如果误差满足其他分布的情况下，是否还有上述实验的规律呢？我们验证下，这次使用均匀分布、指数分布、泊松分布、0-1分布："
   ]
  },
  {
   "cell_type": "code",
   "execution_count": 34,
   "id": "0280901b",
   "metadata": {
    "pycharm": {
     "is_executing": true,
     "name": "#%%\n"
    }
   },
   "outputs": [
    {
     "data": {
      "image/png": "[encoded data removed]",
      "text/plain": [
       "<Figure size 432x288 with 1 Axes>"
      ]
     },
     "metadata": {},
     "output_type": "display_data"
    },
    {
     "data": {
      "image/png": "[encoded data removed]",
      "text/plain": [
       "<Figure size 432x288 with 1 Axes>"
      ]
     },
     "metadata": {},
     "output_type": "display_data"
    },
    {
     "data": {
      "image/png": "[encoded data removed]",
      "text/plain": [
       "<Figure size 432x288 with 1 Axes>"
      ]
     },
     "metadata": {},
     "output_type": "display_data"
    },
    {
     "data": {
      "image/png": "[encoded data removed]",
      "text/plain": [
       "<Figure size 432x288 with 1 Axes>"
      ]
     },
     "metadata": {},
     "output_type": "display_data"
    },
    {
     "data": {
      "image/png": "[encoded data removed]",
      "text/plain": [
       "<Figure size 432x288 with 1 Axes>"
      ]
     },
     "metadata": {},
     "output_type": "display_data"
    }
   ],
   "source": [
    "# 模拟n个均匀分布的和的分布\n",
    "from scipy.stats import uniform\n",
    "\n",
    "\n",
    "def Random_Sum_F(n):\n",
    "    sample_nums = 10000\n",
    "    random_arr = np.zeros(sample_nums)\n",
    "    for i in range(n):\n",
    "        err_arr = uniform.rvs(size=sample_nums)\n",
    "        random_arr += err_arr\n",
    "    plt.hist(random_arr)\n",
    "    plt.title(\"n = \"+str(n))\n",
    "    plt.xlabel(\"x\")\n",
    "    plt.ylabel(\"p (x)\")\n",
    "    plt.show()\n",
    "\n",
    "\n",
    "Random_Sum_F(2)\n",
    "Random_Sum_F(10)\n",
    "Random_Sum_F(100)\n",
    "Random_Sum_F(1000)\n",
    "Random_Sum_F(10000)"
   ]
  },
  {
   "cell_type": "code",
   "execution_count": 36,
   "id": "87c0bba0",
   "metadata": {
    "pycharm": {
     "is_executing": true,
     "name": "#%%\n"
    }
   },
   "outputs": [
    {
     "data": {
      "image/png": "[encoded data removed]",
      "text/plain": [
       "<Figure size 432x288 with 1 Axes>"
      ]
     },
     "metadata": {},
     "output_type": "display_data"
    },
    {
     "data": {
      "image/png": "[encoded data removed]",
      "text/plain": [
       "<Figure size 432x288 with 1 Axes>"
      ]
     },
     "metadata": {},
     "output_type": "display_data"
    },
    {
     "data": {
      "image/png": "[encoded data removed]",
      "text/plain": [
       "<Figure size 432x288 with 1 Axes>"
      ]
     },
     "metadata": {},
     "output_type": "display_data"
    },
    {
     "data": {
      "image/png": "[encoded data removed]",
      "text/plain": [
       "<Figure size 432x288 with 1 Axes>"
      ]
     },
     "metadata": {},
     "output_type": "display_data"
    },
    {
     "data": {
      "image/png": "[encoded data removed]",
      "text/plain": [
       "<Figure size 432x288 with 1 Axes>"
      ]
     },
     "metadata": {},
     "output_type": "display_data"
    }
   ],
   "source": [
    "# 模拟n个指数分布的和的分布\n",
    "from scipy.stats import expon\n",
    "\n",
    "\n",
    "def Random_Sum_F(n):\n",
    "    sample_nums = 10000\n",
    "    random_arr = np.zeros(sample_nums)\n",
    "    for i in range(n):\n",
    "        err_arr = expon.rvs(size=sample_nums)\n",
    "        random_arr += err_arr\n",
    "    plt.hist(random_arr)\n",
    "    plt.title(\"n = \"+str(n))\n",
    "    plt.xlabel(\"x\")\n",
    "    plt.ylabel(\"p (x)\")\n",
    "    plt.show()\n",
    "\n",
    "\n",
    "Random_Sum_F(2)\n",
    "Random_Sum_F(10)\n",
    "Random_Sum_F(100)\n",
    "Random_Sum_F(1000)\n",
    "Random_Sum_F(10000)"
   ]
  },
  {
   "cell_type": "code",
   "execution_count": 35,
   "id": "46f57c16",
   "metadata": {
    "pycharm": {
     "is_executing": true,
     "name": "#%%\n"
    }
   },
   "outputs": [
    {
     "data": {
      "image/png": "[encoded data removed]",
      "text/plain": [
       "<Figure size 432x288 with 1 Axes>"
      ]
     },
     "metadata": {},
     "output_type": "display_data"
    },
    {
     "data": {
      "image/png": "[encoded data removed]",
      "text/plain": [
       "<Figure size 432x288 with 1 Axes>"
      ]
     },
     "metadata": {},
     "output_type": "display_data"
    },
    {
     "data": {
      "image/png": "[encoded data removed]",
      "text/plain": [
       "<Figure size 432x288 with 1 Axes>"
      ]
     },
     "metadata": {},
     "output_type": "display_data"
    },
    {
     "data": {
      "image/png": "[encoded data removed]",
      "text/plain": [
       "<Figure size 432x288 with 1 Axes>"
      ]
     },
     "metadata": {},
     "output_type": "display_data"
    },
    {
     "data": {
      "image/png": "[encoded data removed]",
      "text/plain": [
       "<Figure size 432x288 with 1 Axes>"
      ]
     },
     "metadata": {},
     "output_type": "display_data"
    }
   ],
   "source": [
    "# 模拟n个泊松分布的和的分布\n",
    "from scipy.stats import poisson\n",
    "\n",
    "\n",
    "def Random_Sum_F(n):\n",
    "    sample_nums = 10000\n",
    "    random_arr = np.zeros(sample_nums)\n",
    "    for i in range(n):\n",
    "        mu = 1.0\n",
    "        err_arr = poisson.rvs(mu=mu, size=sample_nums)\n",
    "        random_arr += err_arr\n",
    "    plt.hist(random_arr)\n",
    "    plt.title(\"n = \"+str(n))\n",
    "    plt.xlabel(\"x\")\n",
    "    plt.ylabel(\"p (x)\")\n",
    "    plt.show()\n",
    "\n",
    "\n",
    "Random_Sum_F(2)\n",
    "Random_Sum_F(10)\n",
    "Random_Sum_F(100)\n",
    "Random_Sum_F(1000)\n",
    "Random_Sum_F(10000)"
   ]
  },
  {
   "cell_type": "code",
   "execution_count": 37,
   "id": "cac1b02c",
   "metadata": {
    "pycharm": {
     "is_executing": true,
     "name": "#%%\n"
    }
   },
   "outputs": [
    {
     "data": {
      "image/png": "[encoded data removed]",
      "text/plain": [
       "<Figure size 432x288 with 1 Axes>"
      ]
     },
     "metadata": {},
     "output_type": "display_data"
    },
    {
     "data": {
      "image/png": "[encoded data removed]",
      "text/plain": [
       "<Figure size 432x288 with 1 Axes>"
      ]
     },
     "metadata": {},
     "output_type": "display_data"
    },
    {
     "data": {
      "image/png": "[encoded data removed]",
      "text/plain": [
       "<Figure size 432x288 with 1 Axes>"
      ]
     },
     "metadata": {},
     "output_type": "display_data"
    },
    {
     "data": {
      "image/png": "[encoded data removed]",
      "text/plain": [
       "<Figure size 432x288 with 1 Axes>"
      ]
     },
     "metadata": {},
     "output_type": "display_data"
    },
    {
     "data": {
      "image/png": "[encoded data removed]",
      "text/plain": [
       "<Figure size 432x288 with 1 Axes>"
      ]
     },
     "metadata": {},
     "output_type": "display_data"
    }
   ],
   "source": [
    "# 模拟n个0-1分布的和的分布\n",
    "from scipy.stats import bernoulli\n",
    "\n",
    "\n",
    "def Random_Sum_F(n):\n",
    "    sample_nums = 10000\n",
    "    random_arr = np.zeros(sample_nums)\n",
    "    for i in range(n):\n",
    "        p = 0.5\n",
    "        err_arr = bernoulli.rvs(p=p, size=sample_nums)\n",
    "        random_arr += err_arr\n",
    "    plt.hist(random_arr)\n",
    "    plt.title(\"n = \"+str(n))\n",
    "    plt.xlabel(\"x\")\n",
    "    plt.ylabel(\"p (x)\")\n",
    "    plt.show()\n",
    "\n",
    "\n",
    "Random_Sum_F(2)\n",
    "Random_Sum_F(10)\n",
    "Random_Sum_F(100)\n",
    "Random_Sum_F(1000)\n",
    "Random_Sum_F(10000)"
   ]
  },
  {
   "cell_type": "markdown",
   "id": "be3d06bf",
   "metadata": {
    "pycharm": {
     "name": "#%% md\n"
    }
   },
   "source": [
    "&emsp;&emsp;以上实验说明了一个道理：假设 $\\{X_n\\}$ 独立同分布、方差存在，不管原来的分布是什么，只要 $n$ 充分大，就可以用正态分布去逼近随机变量和的分布，所以这个定理有着广泛的应用。下面，我们来看看如何使用中心极限定理产生一组正态分布的随机数！\n",
    "\n",
    "&emsp;&emsp;计算机往往只能产生一组服从均匀分布的随机数，那么如果我们想要产生一组服从正态分布 $N(\\mu,\\sigma^2)$ 的随机数，应该如何操作呢？设随机变量 $X$ 服从 $(0,1)$ 上的均匀分布，则其数学期望与方差分别为 $1/2$ 和 $1/12$。 由此得到12个相互独立的 $(0,1)$ 上均匀分布随机变量，其数学期望与方差分别为6和1。因此：\n",
    "- 产生12个 $(0,1)$ 上均匀分布的随机数, 记为 $x_1, x_2, \\cdots, x_12$。\n",
    "- 计算 $y = x_1 + x_2 + \\cdots + x_12 - 6$，则由中心极限定理知，可将 $y$ 近似看成来自标准正态分布 $N(0,1)$ 的一个随机数。\n",
    "- 计算 $z = \\mu + \\sigma y$，则可将 $z$ 看成来自正态分布 $N (\\mu, \\sigma^2)$ 的一个随机数。\n",
    "- 重复 $N$ 次就能获得 $N$ 个服从正态分布 $N(\\mu, \\sigma^2)$ 的随机数。"
   ]
  },
  {
   "cell_type": "code",
   "execution_count": 38,
   "id": "f517409a",
   "metadata": {
    "pycharm": {
     "is_executing": true,
     "name": "#%%\n"
    }
   },
   "outputs": [
    {
     "data": {
      "image/png": "[encoded data removed]",
      "text/plain": [
       "<Figure size 432x288 with 1 Axes>"
      ]
     },
     "metadata": {},
     "output_type": "display_data"
    }
   ],
   "source": [
    "# 由均匀分布随机数产生N个正态分布的随机数\n",
    "import random\n",
    "\n",
    "\n",
    "def Random_Norm(N, mu, sigma):\n",
    "    random_list = []\n",
    "    for i in range(N):\n",
    "        uniform_sum = 0\n",
    "        for j in range(12):\n",
    "            uniform_rand = random.random()  # [0,1]均匀分布的随机数\n",
    "            uniform_sum += uniform_rand\n",
    "        y = uniform_sum - 6\n",
    "        z = mu + sigma * y\n",
    "        random_list.append(z)\n",
    "    return random_list\n",
    "\n",
    "\n",
    "norm_random_list = Random_Norm(10000, 10, 2)\n",
    "plt.hist(np.array(norm_random_list))\n",
    "plt.xlabel(\"x\")\n",
    "plt.ylabel(\"p (x)\")\n",
    "plt.title(\"由均匀分布随机数构造正态分布随机数\")\n",
    "plt.text(16, 2500, r'$N(10,4)$')\n",
    "plt.show()"
   ]
  },
  {
   "cell_type": "markdown",
   "id": "8cc0902c",
   "metadata": {
    "pycharm": {
     "name": "#%% md\n"
    }
   },
   "source": [
    "### 10 数学建模综合案例分析：投资组合风险分析"
   ]
  },
  {
   "cell_type": "markdown",
   "id": "3a3ac8b6",
   "metadata": {
    "pycharm": {
     "name": "#%% md\n"
    }
   },
   "source": [
    "<div class=\"alert alert-warning\" role=\"alert\">\n",
    "  <h3>📋任务</h3> \n",
    "</div>\n",
    "\n",
    "&emsp;&emsp;GitModel公司是一家专业的投资银行，志在帮助客户更好地管理资产。客户手头上有一笔100万的资金，希望将这笔钱投入股票市场进行投资理财，投资人看中了两个股票 $A$、$B$，股票分析师通过对股票 $A$、$B$ 的历史数据分析发现：股票 $A$ 的平均收益近似服从 $N(0.1, 0.01)$，股票 $B$ 的平均收益近似服从 $N(0.3,0.04)$。现在客户希望通过分析得出投资股票 $A$、$B$ 的最佳组合（在预期收益确定情况下最小风险时，需要投资 $A$、$B$ 的份额）。"
   ]
  },
  {
   "cell_type": "markdown",
   "id": "78276b94",
   "metadata": {
    "pycharm": {
     "name": "#%% md\n"
    }
   },
   "source": [
    "**分析：**"
   ]
  },
  {
   "cell_type": "markdown",
   "id": "9293cfed",
   "metadata": {
    "pycharm": {
     "name": "#%% md\n"
    }
   },
   "source": [
    "&emsp;&emsp;首先，我们先来分析投资组合的收益应该如何计算：设 $A$、$B$ 的投资收益率为随机变量 $X$、$Y$，因此 $X \\sim N(0.1,0.01)$，$Y \\sim N(0.3,0.04)$。设 $x_1$ 为投资 $A$ 的份额，$y_1 = 1 - x_1$为投资 $B$ 的份额，因此投资组合的收益率为：$Z = x_1 X + y_1 Y$，投资组合的平均收益率为：$E(Z) = x_1 E(X) + y_1 E(Y)$。"
   ]
  },
  {
   "cell_type": "markdown",
   "id": "19c76e9e",
   "metadata": {
    "pycharm": {
     "name": "#%% md\n"
    }
   },
   "source": [
    "&emsp;&emsp;接下来，我们来分析投资组合的风险应该如何计算：何为风险，最简单来说就是收益的不确定性，如果收益是确定且固定的，就无所谓的风险可言。根据对风险的直观描述，我们可以定义风险为收益率的方差，因此：股票 $A$ 的风险为 $\\sigma_x^2 = 0.01$，股票 $B$ 的风险为 $\\sigma_y^2 = 0.04$，而投资组合的风险为\n",
    "$$\n",
    "\\begin{aligned}\n",
    "\\text{Var}(Z) \n",
    "&= \\text{Var}(x_1 X + y_1 Y) \\\\\n",
    "&= x_1^2 \\text{Var}(X)+y_1^2 \\text{Var}(Y) + 2 x_1 y_1 \\text{Cov}(X, Y)\n",
    "\\end{aligned}\n",
    "$$\n",
    "\n",
    "&emsp;&emsp;因此，最佳的投资组合应该是风险最小时的投资组合，即：\n",
    "$$\n",
    "\\begin{aligned}\n",
    "& \\min \\text{Var}(Z) \\\\\n",
    "&= \\min x_1^2 \\text{Var}(X) + y_1^2 \\text{Var}(Y) + 2 x_1 y_1 \\text{Cov}(X, Y) \\\\\n",
    "&= \\frac{d(\\text{Var}(Z))}{d(x_1)} = 0\n",
    "\\end{aligned}\n",
    "$$"
   ]
  },
  {
   "cell_type": "code",
   "execution_count": 127,
   "id": "15bd9217",
   "metadata": {
    "pycharm": {
     "is_executing": true,
     "name": "#%%\n"
    }
   },
   "outputs": [
    {
     "data": {
      "text/plain": [
       "[0.941176470588235]"
      ]
     },
     "execution_count": 127,
     "metadata": {},
     "output_type": "execute_result"
    }
   ],
   "source": [
    "# 寻找最佳投资组合，假设corr_xy = 0.4\n",
    "from sympy import *\n",
    "x = symbols('x')\n",
    "y = symbols('y')\n",
    "y = 1-x\n",
    "## 请根据var_Z的定义写出相应的公式代码\n",
    "var_z = (-------------------------------------)\n",
    "## 请根据相应的优化分析写出代码\n",
    "print(------------------------------)"
   ]
  },
  {
   "cell_type": "markdown",
   "id": "66f013f1",
   "metadata": {
    "pycharm": {
     "name": "#%% md\n"
    }
   },
   "source": [
    "因此，根据风险最小化原则，应该投资A股票$10w \\times 0.94$元，而投资B股票$10w \\times 0.06$元。"
   ]
  },
  {
   "cell_type": "markdown",
   "id": "2b585abe",
   "metadata": {},
   "source": [
    "<div class=\"alert alert-success\" role=\"alert\">\n",
    "  <h4 class=\"alert-heading\">Well done!</h4>\n",
    "  <p>恭喜你，完成了《动手学概率论》的学习，希望在日后的数模竞赛中，通过本课程的学习，你可以更加灵活分析不确定性世界，取得优异的成绩.</p>\n",
    "  <hr>\n",
    "  <p>如有需要领取本次组队学习的答案，敬请关注公众号以及留意直播讲解！</p>\n",
    "</div>"
   ]
  }
 ],
 "metadata": {
  "kernelspec": {
   "display_name": "Python 3 (ipykernel)",
   "language": "python",
   "name": "python3"
  },
  "language_info": {
   "codemirror_mode": {
    "name": "ipython",
    "version": 3
   },
   "file_extension": ".py",
   "mimetype": "text/x-python",
   "name": "python",
   "nbconvert_exporter": "python",
   "pygments_lexer": "ipython3",
   "version": "3.7.9"
  },
  "latex_envs": {
   "LaTeX_envs_menu_present": true,
   "autoclose": false,
   "autocomplete": true,
   "bibliofile": "biblio.bib",
   "cite_by": "apalike",
   "current_citInitial": 1,
   "eqLabelWithNumbers": true,
   "eqNumInitial": 1,
   "hotkeys": {
    "equation": "Ctrl-E",
    "itemize": "Ctrl-I"
   },
   "labels_anchors": false,
   "latex_user_defs": false,
   "report_style_numbering": false,
   "user_envs_cfg": false
  },
  "toc": {
   "base_numbering": 1,
   "nav_menu": {},
   "number_sections": false,
   "sideBar": true,
   "skip_h1_title": false,
   "title_cell": "Table of Contents",
   "title_sidebar": "Contents",
   "toc_cell": false,
   "toc_position": {},
   "toc_section_display": true,
   "toc_window_display": false
  }
 },
 "nbformat": 4,
 "nbformat_minor": 5
}
